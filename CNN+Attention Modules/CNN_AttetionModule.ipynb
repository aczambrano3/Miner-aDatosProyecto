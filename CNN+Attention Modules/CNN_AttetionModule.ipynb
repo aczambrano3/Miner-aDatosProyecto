{
 "cells": [
  {
   "cell_type": "markdown",
   "metadata": {},
   "source": [
    "# 1.0 Attention & Visual Attention"
   ]
  },
  {
   "cell_type": "code",
   "execution_count": 1,
   "metadata": {
    "ExecuteTime": {
     "end_time": "2020-11-01T21:24:36.064516Z",
     "start_time": "2020-11-01T21:24:35.893761Z"
    }
   },
   "outputs": [],
   "source": [
    "%matplotlib inline\n",
    "%load_ext autoreload\n",
    "%autoreload 2"
   ]
  },
  {
   "cell_type": "code",
   "execution_count": 48,
   "metadata": {
    "ExecuteTime": {
     "end_time": "2020-11-01T21:24:37.083534Z",
     "start_time": "2020-11-01T21:24:36.065549Z"
    }
   },
   "outputs": [],
   "source": [
    "import tensorflow as tf \n",
    "import numpy as np\n",
    "import matplotlib.pyplot as plt  \n",
    "import os\n",
    "import cv2\n",
    "from PIL import Image\n",
    "import tensorflow as tf\n",
    "from tensorflow.keras.models import load_model\n",
    "from tensorflow.keras.utils import to_categorical\n",
    "from tensorflow.keras.optimizers import Adam, RMSprop\n",
    "from tensorflow.keras.callbacks import ReduceLROnPlateau\n",
    "from tensorflow.keras.preprocessing.image import ImageDataGenerator, img_to_array\n",
    "from tensorflow.keras.callbacks import EarlyStopping\n",
    "import numpy as np\n",
    "import matplotlib.pyplot as plt\n",
    "from sklearn.model_selection import train_test_split\n",
    "from sklearn.metrics import accuracy_score, precision_score, recall_score, f1_score\n",
    "import time\n",
    "import math\n",
    "import logging"
   ]
  },
  {
   "cell_type": "code",
   "execution_count": 7,
   "metadata": {
    "ExecuteTime": {
     "end_time": "2020-11-01T21:24:37.134704Z",
     "start_time": "2020-11-01T21:24:37.115733Z"
    }
   },
   "outputs": [],
   "source": [
    "class ChannelAttention(tf.keras.layers.Layer):\n",
    "      def __init__(self, filters, ratio):\n",
    "        super(ChannelAttention, self).__init__()\n",
    "        self.filters = filters\n",
    "        self.ratio = ratio\n",
    "\n",
    "        def build(self, input_shape):\n",
    "            self.shared_layer_one = tf.keras.layers.Dense(self.filters//self.ratio,\n",
    "                             activation='relu', kernel_initializer='he_normal', \n",
    "                              use_bias=True, \n",
    "                              bias_initializer='zeros')\n",
    "            self.shared_layer_two = tf.keras.layers.Dense(self.filters,\n",
    "                             kernel_initializer='he_normal',\n",
    "                             use_bias=True,\n",
    "                             bias_initializer='zeros')\n",
    "\n",
    "        def call(self, inputs):\n",
    "            # AvgPool\n",
    "            avg_pool = tf.keras.layers.GlobalAveragePooling2D()(inputs)\n",
    "            \n",
    "\n",
    "            avg_pool = self.shared_layer_one(avg_pool)\n",
    "            avg_pool = self.shared_layer_two(avg_pool)\n",
    "\n",
    "            # MaxPool\n",
    "            max_pool = tf.keras.layers.GlobalMaxPooling2D()(inputs)\n",
    "            max_pool = tf.keras.layers.Reshape((1,1,filters))(max_pool)\n",
    "\n",
    "            max_pool = shared_layer_one(max_pool)\n",
    "            max_pool = shared_layer_two(max_pool)\n",
    "\n",
    "\n",
    "            attention = tf.keras.layers.Add()([avg_pool,max_pool])\n",
    "            attention = tf.keras.layers.Activation('sigmoid')(attention)\n",
    "            \n",
    "            return tf.keras.layers.Multiply()([inputs, attention])"
   ]
  },
  {
   "cell_type": "code",
   "execution_count": 8,
   "metadata": {
    "ExecuteTime": {
     "end_time": "2020-11-01T21:24:37.153282Z",
     "start_time": "2020-11-01T21:24:37.135572Z"
    }
   },
   "outputs": [],
   "source": [
    "class SpatialAttention(tf.keras.layers.Layer):\n",
    "      def __init__(self, kernel_size):\n",
    "        super(SpatialAttention, self).__init__()\n",
    "        self.kernel_size = kernel_size\n",
    "        \n",
    "        def build(self, input_shape):\n",
    "            self.conv2d = tf.keras.layers.Conv2D(filters = 1,\n",
    "                    kernel_size=self.kernel_size,\n",
    "                    strides=1,\n",
    "                    padding='same',\n",
    "                    activation='sigmoid',\n",
    "                    kernel_initializer='he_normal',\n",
    "                    use_bias=False)\n",
    "\n",
    "        def call(self, inputs):\n",
    "            \n",
    "            # AvgPool\n",
    "            avg_pool = tf.keras.layers.Lambda(lambda x: tf.keras.backend.mean(x, axis=3, keepdims=True))(inputs)\n",
    "            \n",
    "            # MaxPool\n",
    "            max_pool = tf.keras.layers.Lambda(lambda x: tf.keras.backend.max(x, axis=3, keepdims=True))(inputs)\n",
    "\n",
    "            attention = tf.keras.layers.Concatenate(axis=3)([avg_pool, max_pool])\n",
    "\n",
    "            attention = self.conv2d(attention)\n",
    "\n",
    "\n",
    "            return tf.keras.layers.multiply([inputs, attention]) "
   ]
  },
  {
   "cell_type": "markdown",
   "metadata": {},
   "source": [
    "# 3.0 Build a Model"
   ]
  },
  {
   "cell_type": "markdown",
   "metadata": {},
   "source": [
    "## 3.1 Download a dataset (CIFAR 10)"
   ]
  },
  {
   "cell_type": "code",
   "execution_count": 9,
   "metadata": {},
   "outputs": [
    {
     "name": "stdout",
     "output_type": "stream",
     "text": [
      "List of categories =  ['closed', 'open'] \n",
      "\n",
      "No. of categories =  2\n"
     ]
    }
   ],
   "source": [
    "fpath = '../Dataset'\n",
    "categories = os.listdir(fpath)\n",
    "IMG_SHAPE  = 224\n",
    "batch_size = 32\n",
    "random_seed = 9\n",
    "print(\"List of categories = \",categories,\"\\n\\nNo. of categories = \", len(categories))"
   ]
  },
  {
   "cell_type": "code",
   "execution_count": 10,
   "metadata": {},
   "outputs": [
    {
     "name": "stdout",
     "output_type": "stream",
     "text": [
      "No. of images loaded =  2422 \n",
      "No. of labels loaded =  2422\n",
      "<class 'list'> <class 'list'>\n"
     ]
    }
   ],
   "source": [
    "def load_images_and_labels(categories):\n",
    "    img_lst=[]\n",
    "    labels=[]\n",
    "    for index, category in enumerate(categories):\n",
    "        for image_name in os.listdir(fpath+\"/\"+category):\n",
    "            img = cv2.imread(fpath+\"/\"+category+\"/\"+image_name)\n",
    "            img = cv2.cvtColor(img, cv2.COLOR_BGR2RGB)\n",
    "            img = cv2.resize(img, (IMG_SHAPE, IMG_SHAPE))\n",
    "            img_array = Image.fromarray(img, 'RGB')\n",
    "            \n",
    "            img_lst.append(np.array(img_array))\n",
    "            \n",
    "            labels.append(index)\n",
    "    return img_lst, labels\n",
    "\n",
    "images, labels = load_images_and_labels(categories)\n",
    "print(\"No. of images loaded = \",len(images),\"\\nNo. of labels loaded = \",len(labels))\n",
    "print(type(images),type(labels))"
   ]
  },
  {
   "cell_type": "code",
   "execution_count": 11,
   "metadata": {},
   "outputs": [
    {
     "name": "stdout",
     "output_type": "stream",
     "text": [
      "Images shape =  (2422, 224, 224, 3) \n",
      "Labels shape =  (2422,)\n",
      "<class 'numpy.ndarray'> <class 'numpy.ndarray'>\n"
     ]
    }
   ],
   "source": [
    "images = np.array(images)\n",
    "labels = np.array(labels)\n",
    "\n",
    "print(\"Images shape = \",images.shape,\"\\nLabels shape = \",labels.shape)\n",
    "print(type(images),type(labels))"
   ]
  },
  {
   "cell_type": "code",
   "execution_count": 12,
   "metadata": {},
   "outputs": [
    {
     "data": {
      "image/png": "[encoded data removed]",
      "text/plain": [
       "<Figure size 1368x720 with 9 Axes>"
      ]
     },
     "metadata": {},
     "output_type": "display_data"
    }
   ],
   "source": [
    "def display_rand_images(images, labels):\n",
    "    plt.figure(1 , figsize = (19 , 10))\n",
    "    n = 0 \n",
    "    for i in range(9):\n",
    "        n += 1 \n",
    "        r = np.random.randint(0 , images.shape[0] , 1)\n",
    "        \n",
    "        plt.subplot(3 , 3 , n)\n",
    "        plt.subplots_adjust(hspace = 0.3 , wspace = 0.3)\n",
    "        plt.imshow(images[r[0]])\n",
    "        \n",
    "        plt.title('Ojos : {}'.format(labels[r[0]]))\n",
    "        plt.xticks([])\n",
    "        plt.yticks([])\n",
    "        \n",
    "    plt.show()\n",
    "    \n",
    "display_rand_images(images, labels)"
   ]
  },
  {
   "cell_type": "code",
   "execution_count": 13,
   "metadata": {},
   "outputs": [
    {
     "name": "stdout",
     "output_type": "stream",
     "text": [
      "'n' values before shuffling =  [   0    1    2 ... 2419 2420 2421]\n",
      "\n",
      "'n' values after shuffling =  [ 737 2294  456 ...  501  348  382]\n"
     ]
    }
   ],
   "source": [
    "#1-step in data shuffling\n",
    "\n",
    "#get equally spaced numbers in a given range\n",
    "n = np.arange(images.shape[0])\n",
    "print(\"'n' values before shuffling = \",n)\n",
    "\n",
    "#shuffle all the equally spaced values in list 'n'\n",
    "np.random.seed(random_seed)\n",
    "np.random.shuffle(n)\n",
    "print(\"\\n'n' values after shuffling = \",n)"
   ]
  },
  {
   "cell_type": "code",
   "execution_count": 14,
   "metadata": {},
   "outputs": [
    {
     "name": "stdout",
     "output_type": "stream",
     "text": [
      "Images shape after shuffling =  (2422, 224, 224, 3) \n",
      "Labels shape after shuffling =  (2422,)\n"
     ]
    }
   ],
   "source": [
    "#2-step in data shuffling\n",
    "\n",
    "#shuffle images and corresponding labels data in both the lists\n",
    "images = images[n]\n",
    "labels = labels[n]\n",
    "\n",
    "print(\"Images shape after shuffling = \",images.shape,\"\\nLabels shape after shuffling = \",labels.shape)"
   ]
  },
  {
   "cell_type": "code",
   "execution_count": 15,
   "metadata": {},
   "outputs": [
    {
     "name": "stdout",
     "output_type": "stream",
     "text": [
      "Images shape after normalization =  (2422, 224, 224, 3)\n"
     ]
    }
   ],
   "source": [
    "images = images.astype(np.float32)\n",
    "labels = labels.astype(np.int32)\n",
    "images = images/255\n",
    "print(\"Images shape after normalization = \",images.shape)"
   ]
  },
  {
   "cell_type": "code",
   "execution_count": 17,
   "metadata": {},
   "outputs": [
    {
     "name": "stdout",
     "output_type": "stream",
     "text": [
      "x_train shape =  (1879, 224, 224, 3)\n",
      "y_train shape =  (1879,)\n",
      "\n",
      "x_test shape =  (485, 224, 224, 3)\n",
      "y_test shape =  (485,)\n",
      "\n",
      "x_val shape =  (58, 224, 224, 3)\n",
      "y_val shape =  (58,)\n"
     ]
    }
   ],
   "source": [
    "x_train, x_test, y_train, y_test = train_test_split(images, labels, test_size = 0.2, random_state = random_seed)\n",
    "\n",
    "x_val = x_train[:58]\n",
    "y_val = y_train[:58]\n",
    "x_train = x_train[58:]\n",
    "y_train = y_train[58:]\n",
    "\n",
    "print(\"x_train shape = \",x_train.shape)\n",
    "print(\"y_train shape = \",y_train.shape)\n",
    "print(\"\\nx_test shape = \",x_test.shape)\n",
    "print(\"y_test shape = \",y_test.shape)\n",
    "\n",
    "print(\"\\nx_val shape = \",x_val.shape)\n",
    "print(\"y_val shape = \",y_val.shape)"
   ]
  },
  {
   "cell_type": "code",
   "execution_count": 19,
   "metadata": {},
   "outputs": [],
   "source": [
    "##One-hot-encode\n",
    "y_train = to_categorical(y_train, 3)\n",
    "y_test = to_categorical(y_test, 3)\n",
    "y_val = to_categorical(y_val, 3)"
   ]
  },
  {
   "cell_type": "markdown",
   "metadata": {},
   "source": [
    "## 3.3 Builid a network with attention"
   ]
  },
  {
   "cell_type": "code",
   "execution_count": null,
   "metadata": {
    "ExecuteTime": {
     "end_time": "2020-11-01T21:28:03.183317Z",
     "start_time": "2020-11-01T21:28:02.801703Z"
    }
   },
   "outputs": [],
   "source": [
    "simple_cnn_with_attention = tf.keras.models.Sequential([\n",
    "    tf.keras.layers.Conv2D(32, 3, input_shape = x_train[0].shape, activation='elu', padding='same'),\n",
    "    tf.keras.layers.BatchNormalization(),\n",
    "    tf.keras.layers.Conv2D(32, 3, padding='same', activation='elu'),\n",
    "    tf.keras.layers.BatchNormalization(),\n",
    "    ChannelAttention(32, 8),\n",
    "    SpatialAttention(7),\n",
    "    tf.keras.layers.MaxPooling2D(pool_size=(2, 2)),\n",
    "    tf.keras.layers.Conv2D(64, 3, padding='same', activation='elu'),\n",
    "    tf.keras.layers.BatchNormalization(),\n",
    "    tf.keras.layers.Conv2D(64, 3, padding='same', activation='elu'),\n",
    "    tf.keras.layers.BatchNormalization(),\n",
    "    ChannelAttention(64, 8),\n",
    "    SpatialAttention(7),\n",
    "    tf.keras.layers.MaxPooling2D(pool_size=(2, 2)),\n",
    "    tf.keras.layers.Conv2D(128, 3, padding='same', activation='elu'),\n",
    "    tf.keras.layers.BatchNormalization(),\n",
    "    tf.keras.layers.Conv2D(128, 3, padding='same', activation='elu'),\n",
    "    ChannelAttention(128, 8),\n",
    "    SpatialAttention(7),\n",
    "    tf.keras.layers.GlobalAveragePooling2D(),\n",
    "    tf.keras.layers.Dense(3, activation='sigmoid' )\n",
    "])"
   ]
  },
  {
   "cell_type": "code",
   "execution_count": 22,
   "metadata": {
    "ExecuteTime": {
     "end_time": "2020-11-01T21:28:03.203696Z",
     "start_time": "2020-11-01T21:28:03.184190Z"
    }
   },
   "outputs": [
    {
     "name": "stdout",
     "output_type": "stream",
     "text": [
      "Model: \"sequential_1\"\n",
      "_________________________________________________________________\n",
      " Layer (type)                Output Shape              Param #   \n",
      "=================================================================\n",
      " conv2d_6 (Conv2D)           (None, 224, 224, 32)      896       \n",
      "                                                                 \n",
      " batch_normalization_5 (Batc  (None, 224, 224, 32)     128       \n",
      " hNormalization)                                                 \n",
      "                                                                 \n",
      " conv2d_7 (Conv2D)           (None, 224, 224, 32)      9248      \n",
      "                                                                 \n",
      " batch_normalization_6 (Batc  (None, 224, 224, 32)     128       \n",
      " hNormalization)                                                 \n",
      "                                                                 \n",
      " channel_attention_3 (Channe  (None, 224, 224, 32)     0         \n",
      " lAttention)                                                     \n",
      "                                                                 \n",
      " spatial_attention_3 (Spatia  (None, 224, 224, 32)     0         \n",
      " lAttention)                                                     \n",
      "                                                                 \n",
      " max_pooling2d_2 (MaxPooling  (None, 112, 112, 32)     0         \n",
      " 2D)                                                             \n",
      "                                                                 \n",
      " conv2d_8 (Conv2D)           (None, 112, 112, 64)      18496     \n",
      "                                                                 \n",
      " batch_normalization_7 (Batc  (None, 112, 112, 64)     256       \n",
      " hNormalization)                                                 \n",
      "                                                                 \n",
      " conv2d_9 (Conv2D)           (None, 112, 112, 64)      36928     \n",
      "                                                                 \n",
      " batch_normalization_8 (Batc  (None, 112, 112, 64)     256       \n",
      " hNormalization)                                                 \n",
      "                                                                 \n",
      " channel_attention_4 (Channe  (None, 112, 112, 64)     0         \n",
      " lAttention)                                                     \n",
      "                                                                 \n",
      " spatial_attention_4 (Spatia  (None, 112, 112, 64)     0         \n",
      " lAttention)                                                     \n",
      "                                                                 \n",
      " max_pooling2d_3 (MaxPooling  (None, 56, 56, 64)       0         \n",
      " 2D)                                                             \n",
      "                                                                 \n",
      " conv2d_10 (Conv2D)          (None, 56, 56, 128)       73856     \n",
      "                                                                 \n",
      " batch_normalization_9 (Batc  (None, 56, 56, 128)      512       \n",
      " hNormalization)                                                 \n",
      "                                                                 \n",
      " conv2d_11 (Conv2D)          (None, 56, 56, 128)       147584    \n",
      "                                                                 \n",
      " channel_attention_5 (Channe  (None, 56, 56, 128)      0         \n",
      " lAttention)                                                     \n",
      "                                                                 \n",
      " spatial_attention_5 (Spatia  (None, 56, 56, 128)      0         \n",
      " lAttention)                                                     \n",
      "                                                                 \n",
      " global_average_pooling2d_1   (None, 128)              0         \n",
      " (GlobalAveragePooling2D)                                        \n",
      "                                                                 \n",
      " dense_1 (Dense)             (None, 3)                 387       \n",
      "                                                                 \n",
      "=================================================================\n",
      "Total params: 288,675\n",
      "Trainable params: 288,035\n",
      "Non-trainable params: 640\n",
      "_________________________________________________________________\n"
     ]
    }
   ],
   "source": [
    "simple_cnn_with_attention.summary()"
   ]
  },
  {
   "cell_type": "code",
   "execution_count": 28,
   "metadata": {
    "ExecuteTime": {
     "end_time": "2020-11-01T21:28:03.252349Z",
     "start_time": "2020-11-01T21:28:03.204474Z"
    }
   },
   "outputs": [],
   "source": [
    "simple_cnn_with_attention.compile(\n",
    "    loss=tf.keras.losses.categorical_crossentropy,\n",
    "    optimizer=tf.keras.optimizers.Adam(0.001),\n",
    "    metrics=['accuracy'],\n",
    ")"
   ]
  },
  {
   "cell_type": "code",
   "execution_count": 29,
   "metadata": {},
   "outputs": [],
   "source": [
    "steps_per_epoch = (x_train.shape[0]//batch_size)\n",
    "validation_steps = (x_val.shape[0] // batch_size)\n",
    "\n",
    "es = EarlyStopping(monitor='val_loss', mode='min', verbose=1, patience=200)"
   ]
  },
  {
   "cell_type": "code",
   "execution_count": 30,
   "metadata": {
    "ExecuteTime": {
     "end_time": "2020-11-01T21:31:25.790831Z",
     "start_time": "2020-11-01T21:28:03.253194Z"
    }
   },
   "outputs": [
    {
     "name": "stdout",
     "output_type": "stream",
     "text": [
      "Epoch 1/20\n",
      "59/59 [==============================] - 205s 3s/step - loss: 0.7954 - accuracy: 0.5764\n",
      "Epoch 2/20\n",
      "59/59 [==============================] - 204s 3s/step - loss: 0.6963 - accuracy: 0.6152\n",
      "Epoch 3/20\n",
      "59/59 [==============================] - 200s 3s/step - loss: 0.6180 - accuracy: 0.6716\n",
      "Epoch 4/20\n",
      "59/59 [==============================] - 212s 4s/step - loss: 0.5517 - accuracy: 0.7339\n",
      "Epoch 5/20\n",
      "59/59 [==============================] - 216s 4s/step - loss: 0.4992 - accuracy: 0.7557\n",
      "Epoch 6/20\n",
      "59/59 [==============================] - 213s 4s/step - loss: 0.4663 - accuracy: 0.7924\n",
      "Epoch 7/20\n",
      "59/59 [==============================] - 209s 4s/step - loss: 0.4387 - accuracy: 0.7962\n",
      "Epoch 8/20\n",
      "59/59 [==============================] - 214s 4s/step - loss: 0.4151 - accuracy: 0.8042\n",
      "Epoch 9/20\n",
      "59/59 [==============================] - 213s 4s/step - loss: 0.4388 - accuracy: 0.7988\n",
      "Epoch 10/20\n",
      "59/59 [==============================] - 205s 3s/step - loss: 0.4160 - accuracy: 0.8111\n",
      "Epoch 11/20\n",
      "59/59 [==============================] - 205s 3s/step - loss: 0.3726 - accuracy: 0.8340\n",
      "Epoch 12/20\n",
      "59/59 [==============================] - 208s 4s/step - loss: 0.3883 - accuracy: 0.8212\n",
      "Epoch 13/20\n",
      "59/59 [==============================] - 197s 3s/step - loss: 0.4014 - accuracy: 0.8244\n",
      "Epoch 14/20\n",
      "59/59 [==============================] - 205s 3s/step - loss: 0.3689 - accuracy: 0.8393\n",
      "Epoch 15/20\n",
      "59/59 [==============================] - 216s 4s/step - loss: 0.3889 - accuracy: 0.8249\n",
      "Epoch 16/20\n",
      "59/59 [==============================] - 211s 4s/step - loss: 0.3514 - accuracy: 0.8435\n",
      "Epoch 17/20\n",
      "59/59 [==============================] - 199s 3s/step - loss: 0.3568 - accuracy: 0.8457\n",
      "Epoch 18/20\n",
      "59/59 [==============================] - 198s 3s/step - loss: 0.3354 - accuracy: 0.8563\n",
      "Epoch 19/20\n",
      "59/59 [==============================] - 197s 3s/step - loss: 0.3543 - accuracy: 0.8409\n",
      "Epoch 20/20\n",
      "59/59 [==============================] - 205s 3s/step - loss: 0.3412 - accuracy: 0.8473\n"
     ]
    }
   ],
   "source": [
    "history = simple_cnn_with_attention.fit(x_train, y_train, epochs=20)"
   ]
  },
  {
   "cell_type": "code",
   "execution_count": 35,
   "metadata": {
    "ExecuteTime": {
     "end_time": "2020-11-01T21:31:25.926899Z",
     "start_time": "2020-11-01T21:31:25.792945Z"
    }
   },
   "outputs": [
    {
     "name": "stdout",
     "output_type": "stream",
     "text": [
      "16/16 [==============================] - 12s 747ms/step - loss: 1.1340 - accuracy: 0.5196\n",
      "test_loss: 113.40\n",
      "test_accuracy: 51.96\n"
     ]
    }
   ],
   "source": [
    "start_time = time.time()\n",
    "\n",
    "loss, accuracy = simple_cnn_with_attention.evaluate(x_test,y_test,batch_size=batch_size)\n",
    "print('test_loss: %.2f' % (loss * 100.0))  \n",
    "print('test_accuracy: %.2f' % (accuracy * 100.0))\n",
    "\n",
    "logging.info(\"Evaluation Execution Time: \" + time.strftime(\"%H:%M:%S\", time.gmtime(time.time() - start_time)))\n",
    "logging.info(\"test_loss:\" + str(loss))\n",
    "logging.info(\"test accuracy:\" + str(accuracy))"
   ]
  },
  {
   "cell_type": "code",
   "execution_count": 36,
   "metadata": {
    "ExecuteTime": {
     "end_time": "2020-11-01T21:31:27.376938Z",
     "start_time": "2020-11-01T21:31:25.928216Z"
    }
   },
   "outputs": [
    {
     "name": "stdout",
     "output_type": "stream",
     "text": [
      "Accuracy: 51.96\n",
      "F1 score: 37.94\n",
      "Precision: 60.19\n",
      "Recall: 51.96\n"
     ]
    }
   ],
   "source": [
    "model_probs = simple_cnn_with_attention.predict(x_test,batch_size=batch_size,verbose=0)\n",
    "y_pred = model_probs\n",
    "# predict crisp classes for test set\n",
    "model_classes = np.argmax(model_probs,axis=1)\n",
    "# reduce to 1d array\n",
    "model_probs = model_probs[:, 0]\n",
    "\n",
    "y_test_reduced = np.argmax(y_test,axis=1)\n",
    " \n",
    "# accuracy: (tp + tn) / (p + n)\n",
    "accuracy = accuracy_score(y_test_reduced, model_classes)*100\n",
    "# precision tp / (tp + fp)\n",
    "precision = precision_score(y_test_reduced, model_classes, average='weighted')*100\n",
    "# recall: tp / (tp + fn)\n",
    "recall = recall_score(y_test_reduced, model_classes, average='weighted')*100\n",
    "# f1: 2 tp / (2 tp + fp + fn)\n",
    "f1 = f1_score(y_test_reduced, model_classes, average='weighted')*100\n",
    "\n",
    "print('Accuracy: %.2f' % accuracy)\n",
    "print('F1 score: %.2f' % f1)\n",
    "print('Precision: %.2f' % precision)\n",
    "print('Recall: %.2f' % recall)\n",
    "\n",
    "logging.info('Accuracy: %.2f' % accuracy)\n",
    "logging.info('F1 score: %.2f' % f1)\n",
    "logging.info('Precision: %.2f' % precision)\n",
    "logging.info('Recall: %.2f' % recall)"
   ]
  },
  {
   "cell_type": "code",
   "execution_count": 58,
   "metadata": {},
   "outputs": [
    {
     "data": {
      "image/png": "[encoded data removed]",
      "text/plain": [
       "<Figure size 432x288 with 1 Axes>"
      ]
     },
     "metadata": {
      "needs_background": "light"
     },
     "output_type": "display_data"
    }
   ],
   "source": [
    "accuracy = history.history['accuracy'] \n",
    "epochs = range(len(accuracy))\n",
    "plt.plot(epochs, accuracy, 'r', label='Training accuracy') \n",
    "plt.title('Training and validation accuracy')\n",
    "plt.legend(loc=0)\n",
    "plt.savefig(\"Training and validation accuracy - CNN_AttentionModule.png\")\n",
    "plt.show() "
   ]
  },
  {
   "cell_type": "code",
   "execution_count": null,
   "metadata": {},
   "outputs": [],
   "source": [
    "model_probs.round();"
   ]
  },
  {
   "cell_type": "code",
   "execution_count": null,
   "metadata": {},
   "outputs": [],
   "source": [
    "Y_pred_classes = np.argmax(y_pred,axis = 1) \n",
    "Y_true = np.argmax(y_test,axis = 1)"
   ]
  },
  {
   "cell_type": "code",
   "execution_count": null,
   "metadata": {},
   "outputs": [],
   "source": [
    "import pandas as pd\n",
    "matriz_Confusion = pd.crosstab(Y_true, Y_pred_classes, rownames=['Actual'], colnames=['Predicción'])\n",
    "matriz_Confusion"
   ]
  },
  {
   "cell_type": "code",
   "execution_count": null,
   "metadata": {},
   "outputs": [],
   "source": [
    "import seaborn as sns\n",
    "plt.figure(figsize=(7, 5))\n",
    "\n",
    "sns.heatmap(matriz_Confusion, annot=True,  annot_kws={'size': 15}, fmt = \"d\")\n",
    "plt.show()"
   ]
  }
 ],
 "metadata": {
  "kernelspec": {
   "display_name": "Python 3 (ipykernel)",
   "language": "python",
   "name": "python3"
  },
  "language_info": {
   "codemirror_mode": {
    "name": "ipython",
    "version": 3
   },
   "file_extension": ".py",
   "mimetype": "text/x-python",
   "name": "python",
   "nbconvert_exporter": "python",
   "pygments_lexer": "ipython3",
   "version": "3.9.12"
  },
  "toc": {
   "base_numbering": 1,
   "nav_menu": {},
   "number_sections": false,
   "sideBar": true,
   "skip_h1_title": false,
   "title_cell": "Table of Contents",
   "title_sidebar": "Contents",
   "toc_cell": false,
   "toc_position": {},
   "toc_section_display": true,
   "toc_window_display": true
  },
  "varInspector": {
   "cols": {
    "lenName": 16,
    "lenType": 16,
    "lenVar": 40
   },
   "kernels_config": {
    "python": {
     "delete_cmd_postfix": "",
     "delete_cmd_prefix": "del ",
     "library": "var_list.py",
     "varRefreshCmd": "print(var_dic_list())"
    },
    "r": {
     "delete_cmd_postfix": ") ",
     "delete_cmd_prefix": "rm(",
     "library": "var_list.r",
     "varRefreshCmd": "cat(var_dic_list()) "
    }
   },
   "types_to_exclude": [
    "module",
    "function",
    "builtin_function_or_method",
    "instance",
    "_Feature"
   ],
   "window_display": false
  }
 },
 "nbformat": 4,
 "nbformat_minor": 2
}
