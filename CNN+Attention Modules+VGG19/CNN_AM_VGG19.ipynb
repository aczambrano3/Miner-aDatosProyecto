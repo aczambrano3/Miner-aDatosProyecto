{
 "cells": [
  {
   "cell_type": "markdown",
   "id": "591d00b5",
   "metadata": {},
   "source": [
    "# Libraries"
   ]
  },
  {
   "cell_type": "code",
   "execution_count": 1,
   "id": "5aeeed1c",
   "metadata": {},
   "outputs": [],
   "source": [
    "import tensorflow as tf \n",
    "import numpy as np\n",
    "import matplotlib.pyplot as plt \n",
    "import os\n",
    "import cv2\n",
    "from PIL import Image\n",
    "import tensorflow as tf\n",
    "from tensorflow.keras.models import load_model\n",
    "from tensorflow.keras.utils import to_categorical\n",
    "from tensorflow.keras.optimizers import Adam, RMSprop\n",
    "from tensorflow.keras.callbacks import ReduceLROnPlateau\n",
    "from tensorflow.keras.preprocessing.image import ImageDataGenerator, img_to_array\n",
    "from tensorflow.keras.callbacks import EarlyStopping\n",
    "import numpy as np\n",
    "import matplotlib.pyplot as plt\n",
    "from sklearn.model_selection import train_test_split\n",
    "from sklearn.metrics import accuracy_score, precision_score, recall_score, f1_score\n",
    "from keras.models import Sequential\n",
    "from keras.layers import Embedding\n",
    "import time\n",
    "import math\n",
    "import logging\n",
    "from tensorflow.keras.applications.vgg19 import VGG19\n",
    "from tensorflow.keras.applications.vgg19 import preprocess_input\n",
    "from tensorflow.keras import layers, models"
   ]
  },
  {
   "cell_type": "code",
   "execution_count": 2,
   "id": "d35553b9",
   "metadata": {},
   "outputs": [],
   "source": [
    "class ChannelAttention(tf.keras.layers.Layer):\n",
    "      def __init__(self, filters, ratio):\n",
    "        super(ChannelAttention, self).__init__()\n",
    "        self.filters = filters\n",
    "        self.ratio = ratio\n",
    "\n",
    "        def build(self, input_shape):\n",
    "            self.shared_layer_one = tf.keras.layers.Dense(self.filters//self.ratio,\n",
    "                             activation='relu', kernel_initializer='he_normal', \n",
    "                              use_bias=True, \n",
    "                              bias_initializer='zeros')\n",
    "            self.shared_layer_two = tf.keras.layers.Dense(self.filters,\n",
    "                             kernel_initializer='he_normal',\n",
    "                             use_bias=True,\n",
    "                             bias_initializer='zeros')\n",
    "\n",
    "        def call(self, inputs):\n",
    "            # AvgPool\n",
    "            avg_pool = tf.keras.layers.GlobalAveragePooling2D()(inputs)\n",
    "            \n",
    "\n",
    "            avg_pool = self.shared_layer_one(avg_pool)\n",
    "            avg_pool = self.shared_layer_two(avg_pool)\n",
    "\n",
    "            # MaxPool\n",
    "            max_pool = tf.keras.layers.GlobalMaxPooling2D()(inputs)\n",
    "            max_pool = tf.keras.layers.Reshape((1,1,filters))(max_pool)\n",
    "\n",
    "            max_pool = shared_layer_one(max_pool)\n",
    "            max_pool = shared_layer_two(max_pool)\n",
    "\n",
    "\n",
    "            attention = tf.keras.layers.Add()([avg_pool,max_pool])\n",
    "            attention = tf.keras.layers.Activation('sigmoid')(attention)\n",
    "            \n",
    "            return tf.keras.layers.Multiply()([inputs, attention])"
   ]
  },
  {
   "cell_type": "code",
   "execution_count": 3,
   "id": "c265d5aa",
   "metadata": {},
   "outputs": [],
   "source": [
    "class SpatialAttention(tf.keras.layers.Layer):\n",
    "      def __init__(self, kernel_size):\n",
    "        super(SpatialAttention, self).__init__()\n",
    "        self.kernel_size = kernel_size\n",
    "        \n",
    "        def build(self, input_shape):\n",
    "            self.conv2d = tf.keras.layers.Conv2D(filters = 1,\n",
    "                    kernel_size=self.kernel_size,\n",
    "                    strides=1,\n",
    "                    padding='same',\n",
    "                    activation='sigmoid',\n",
    "                    kernel_initializer='he_normal',\n",
    "                    use_bias=False)\n",
    "\n",
    "        def call(self, inputs):\n",
    "            \n",
    "            # AvgPool\n",
    "            avg_pool = tf.keras.layers.Lambda(lambda x: tf.keras.backend.mean(x, axis=3, keepdims=True))(inputs)\n",
    "            \n",
    "            # MaxPool\n",
    "            max_pool = tf.keras.layers.Lambda(lambda x: tf.keras.backend.max(x, axis=3, keepdims=True))(inputs)\n",
    "\n",
    "            attention = tf.keras.layers.Concatenate(axis=3)([avg_pool, max_pool])\n",
    "\n",
    "            attention = self.conv2d(attention)\n",
    "\n",
    "\n",
    "            return tf.keras.layers.multiply([inputs, attention]) "
   ]
  },
  {
   "cell_type": "markdown",
   "id": "153d78df",
   "metadata": {},
   "source": [
    "# Data loading and exploration"
   ]
  },
  {
   "cell_type": "code",
   "execution_count": 4,
   "id": "ea124e9f",
   "metadata": {},
   "outputs": [],
   "source": [
    "IMG_SHAPE  = 299\n",
    "batch_size = 32\n",
    "random_seed = 9"
   ]
  },
  {
   "cell_type": "code",
   "execution_count": 5,
   "id": "977a88e9",
   "metadata": {},
   "outputs": [
    {
     "name": "stdout",
     "output_type": "stream",
     "text": [
      "List of categories =  ['closed', 'open'] \n",
      "\n",
      "No. of categories =  2\n"
     ]
    }
   ],
   "source": [
    "fpath = '../Dataset'\n",
    "categories = os.listdir(fpath)\n",
    "print(\"List of categories = \",categories,\"\\n\\nNo. of categories = \", len(categories))"
   ]
  },
  {
   "cell_type": "code",
   "execution_count": 6,
   "id": "ed8c4c56",
   "metadata": {},
   "outputs": [
    {
     "name": "stdout",
     "output_type": "stream",
     "text": [
      "No. of images loaded =  2422 \n",
      "No. of labels loaded =  2422\n",
      "<class 'list'> <class 'list'>\n"
     ]
    }
   ],
   "source": [
    "def load_images_and_labels(categories):\n",
    "    img_lst=[]\n",
    "    labels=[]\n",
    "    for index, category in enumerate(categories):\n",
    "        for image_name in os.listdir(fpath+\"/\"+category):\n",
    "            img = cv2.imread(fpath+\"/\"+category+\"/\"+image_name)\n",
    "            img = cv2.cvtColor(img, cv2.COLOR_BGR2RGB)\n",
    "            img = cv2.resize(img, (IMG_SHAPE, IMG_SHAPE))\n",
    "            img_array = Image.fromarray(img, 'RGB')\n",
    "            \n",
    "            img_lst.append(np.array(img_array))\n",
    "            \n",
    "            labels.append(index)\n",
    "    return img_lst, labels\n",
    "\n",
    "images, labels = load_images_and_labels(categories)\n",
    "print(\"No. of images loaded = \",len(images),\"\\nNo. of labels loaded = \",len(labels))\n",
    "print(type(images),type(labels))"
   ]
  },
  {
   "cell_type": "code",
   "execution_count": 7,
   "id": "d6ccc4b0",
   "metadata": {},
   "outputs": [
    {
     "name": "stdout",
     "output_type": "stream",
     "text": [
      "Images shape =  (2422, 299, 299, 3) \n",
      "Labels shape =  (2422,)\n",
      "<class 'numpy.ndarray'> <class 'numpy.ndarray'>\n"
     ]
    }
   ],
   "source": [
    "images = np.array(images)\n",
    "labels = np.array(labels)\n",
    "\n",
    "print(\"Images shape = \",images.shape,\"\\nLabels shape = \",labels.shape)\n",
    "print(type(images),type(labels))"
   ]
  },
  {
   "cell_type": "code",
   "execution_count": 8,
   "id": "9c059968",
   "metadata": {
    "scrolled": true
   },
   "outputs": [
    {
     "data": {
      "image/png": "[encoded data removed]",
      "text/plain": [
       "<Figure size 1368x720 with 9 Axes>"
      ]
     },
     "metadata": {},
     "output_type": "display_data"
    }
   ],
   "source": [
    "def display_rand_images(images, labels):\n",
    "    plt.figure(1 , figsize = (19 , 10))\n",
    "    n = 0 \n",
    "    for i in range(9):\n",
    "        n += 1 \n",
    "        r = np.random.randint(0 , images.shape[0] , 1)\n",
    "        \n",
    "        plt.subplot(3 , 3 , n)\n",
    "        plt.subplots_adjust(hspace = 0.3 , wspace = 0.3)\n",
    "        plt.imshow(images[r[0]])\n",
    "        \n",
    "        plt.title('Ojos : {}'.format(labels[r[0]]))\n",
    "        plt.xticks([])\n",
    "        plt.yticks([])\n",
    "        \n",
    "    plt.show()\n",
    "    \n",
    "display_rand_images(images, labels)"
   ]
  },
  {
   "cell_type": "markdown",
   "id": "fbb55d6a",
   "metadata": {},
   "source": [
    "# Prepare data for training the CNN model"
   ]
  },
  {
   "cell_type": "code",
   "execution_count": 9,
   "id": "f3ef9f15",
   "metadata": {},
   "outputs": [
    {
     "name": "stdout",
     "output_type": "stream",
     "text": [
      "'n' values before shuffling =  [   0    1    2 ... 2419 2420 2421]\n",
      "\n",
      "'n' values after shuffling =  [ 737 2294  456 ...  501  348  382]\n"
     ]
    }
   ],
   "source": [
    "#1-step in data shuffling\n",
    "\n",
    "#get equally spaced numbers in a given range\n",
    "n = np.arange(images.shape[0])\n",
    "print(\"'n' values before shuffling = \",n)\n",
    "\n",
    "#shuffle all the equally spaced values in list 'n'\n",
    "np.random.seed(random_seed)\n",
    "np.random.shuffle(n)\n",
    "print(\"\\n'n' values after shuffling = \",n)"
   ]
  },
  {
   "cell_type": "code",
   "execution_count": 10,
   "id": "f1c775a4",
   "metadata": {},
   "outputs": [
    {
     "name": "stdout",
     "output_type": "stream",
     "text": [
      "Images shape after shuffling =  (2422, 299, 299, 3) \n",
      "Labels shape after shuffling =  (2422,)\n"
     ]
    }
   ],
   "source": [
    "#2-step in data shuffling\n",
    "\n",
    "#shuffle images and corresponding labels data in both the lists\n",
    "images = images[n]\n",
    "labels = labels[n]\n",
    "\n",
    "print(\"Images shape after shuffling = \",images.shape,\"\\nLabels shape after shuffling = \",labels.shape)"
   ]
  },
  {
   "cell_type": "code",
   "execution_count": 11,
   "id": "03908334",
   "metadata": {},
   "outputs": [
    {
     "name": "stdout",
     "output_type": "stream",
     "text": [
      "Images shape after normalization =  (2422, 299, 299, 3)\n"
     ]
    }
   ],
   "source": [
    "images = images.astype(np.float32)\n",
    "labels = labels.astype(np.int32)\n",
    "images = images/255\n",
    "print(\"Images shape after normalization = \",images.shape)"
   ]
  },
  {
   "cell_type": "code",
   "execution_count": 12,
   "id": "74396818",
   "metadata": {},
   "outputs": [
    {
     "name": "stdout",
     "output_type": "stream",
     "text": [
      "x_train shape =  (1879, 299, 299, 3)\n",
      "y_train shape =  (1879,)\n",
      "\n",
      "x_test shape =  (485, 299, 299, 3)\n",
      "y_test shape =  (485,)\n",
      "\n",
      "x_val shape =  (58, 299, 299, 3)\n",
      "y_val shape =  (58,)\n"
     ]
    }
   ],
   "source": [
    "x_train, x_test, y_train, y_test = train_test_split(images, labels, test_size = 0.2, random_state = random_seed)\n",
    "\n",
    "x_val = x_train[:58]\n",
    "y_val = y_train[:58]\n",
    "x_train = x_train[58:]\n",
    "y_train = y_train[58:]\n",
    "\n",
    "print(\"x_train shape = \",x_train.shape)\n",
    "print(\"y_train shape = \",y_train.shape)\n",
    "print(\"\\nx_test shape = \",x_test.shape)\n",
    "print(\"y_test shape = \",y_test.shape)\n",
    "\n",
    "print(\"\\nx_val shape = \",x_val.shape)\n",
    "print(\"y_val shape = \",y_val.shape)"
   ]
  },
  {
   "cell_type": "code",
   "execution_count": 13,
   "id": "f71fd66f",
   "metadata": {},
   "outputs": [],
   "source": [
    "##One-hot-encode\n",
    "y_train = to_categorical(y_train, 3)\n",
    "y_test = to_categorical(y_test, 3)\n",
    "y_val = to_categorical(y_val, 3)"
   ]
  },
  {
   "cell_type": "markdown",
   "id": "19145bea",
   "metadata": {},
   "source": [
    "# Define CNN model"
   ]
  },
  {
   "cell_type": "code",
   "execution_count": 14,
   "id": "374f8ab1",
   "metadata": {},
   "outputs": [],
   "source": [
    "## Loading VGG19 model\n",
    "base_model = VGG19(weights=\"imagenet\", include_top=False, input_shape=x_train[0].shape)\n",
    "base_model.trainable = False ## Not trainable weights\n",
    "\n",
    "## Preprocessing input\n",
    "train_ds = preprocess_input(x_train) \n",
    "test_ds = preprocess_input(x_test)"
   ]
  },
  {
   "cell_type": "code",
   "execution_count": 15,
   "id": "4d4343ef",
   "metadata": {},
   "outputs": [
    {
     "name": "stdout",
     "output_type": "stream",
     "text": [
      "input_1\n",
      "block1_conv1\n",
      "block1_conv2\n",
      "block1_pool\n",
      "block2_conv1\n",
      "block2_conv2\n",
      "block2_pool\n",
      "block3_conv1\n",
      "block3_conv2\n",
      "block3_conv3\n",
      "block3_conv4\n",
      "block3_pool\n",
      "block4_conv1\n",
      "block4_conv2\n",
      "block4_conv3\n",
      "block4_conv4\n",
      "block4_pool\n",
      "block5_conv1\n",
      "block5_conv2\n",
      "block5_conv3\n",
      "block5_conv4\n",
      "block5_pool\n"
     ]
    }
   ],
   "source": [
    "for layer in base_model.layers:\n",
    "    print(layer.name)\n",
    "    layer.trainable = False"
   ]
  },
  {
   "cell_type": "code",
   "execution_count": 16,
   "id": "e3fdfbd8",
   "metadata": {},
   "outputs": [],
   "source": [
    "model = tf.keras.models.Sequential([\n",
    "    base_model,\n",
    "    tf.keras.layers.Conv2D(32, 3, input_shape = x_train[0].shape, activation='elu', padding='same'),\n",
    "    tf.keras.layers.BatchNormalization(),\n",
    "    tf.keras.layers.Conv2D(32, 3, padding='same', activation='elu'),\n",
    "    tf.keras.layers.BatchNormalization(),\n",
    "    ChannelAttention(32, 8),\n",
    "    SpatialAttention(7),\n",
    "    tf.keras.layers.MaxPooling2D(pool_size=(2, 2)),\n",
    "    tf.keras.layers.Conv2D(64, 3, padding='same', activation='elu'),\n",
    "    tf.keras.layers.BatchNormalization(),\n",
    "    tf.keras.layers.Conv2D(64, 3, padding='same', activation='elu'),\n",
    "    tf.keras.layers.BatchNormalization(),\n",
    "    ChannelAttention(64, 8),\n",
    "    SpatialAttention(7),\n",
    "    tf.keras.layers.MaxPooling2D(pool_size=(2, 2)),\n",
    "    tf.keras.layers.Conv2D(128, 3, padding='same', activation='elu'),\n",
    "    tf.keras.layers.BatchNormalization(),\n",
    "    tf.keras.layers.Conv2D(128, 3, padding='same', activation='elu'),\n",
    "    ChannelAttention(128, 8),\n",
    "    SpatialAttention(7),\n",
    "    tf.keras.layers.GlobalAveragePooling2D(),\n",
    "    tf.keras.layers.Dense(3, activation='sigmoid' )\n",
    "])"
   ]
  },
  {
   "cell_type": "markdown",
   "id": "87c7cbc5",
   "metadata": {},
   "source": [
    "# Train model"
   ]
  },
  {
   "cell_type": "code",
   "execution_count": 17,
   "id": "69d2defd",
   "metadata": {},
   "outputs": [],
   "source": [
    "model.compile(optimizer='adam', loss=tf.keras.losses.categorical_crossentropy, metrics=['acc'])"
   ]
  },
  {
   "cell_type": "code",
   "execution_count": 18,
   "id": "f851b2e3",
   "metadata": {},
   "outputs": [
    {
     "name": "stdout",
     "output_type": "stream",
     "text": [
      "Model: \"sequential\"\n",
      "_________________________________________________________________\n",
      " Layer (type)                Output Shape              Param #   \n",
      "=================================================================\n",
      " vgg19 (Functional)          (None, 9, 9, 512)         20024384  \n",
      "                                                                 \n",
      " conv2d (Conv2D)             (None, 9, 9, 32)          147488    \n",
      "                                                                 \n",
      " batch_normalization (BatchN  (None, 9, 9, 32)         128       \n",
      " ormalization)                                                   \n",
      "                                                                 \n",
      " conv2d_1 (Conv2D)           (None, 9, 9, 32)          9248      \n",
      "                                                                 \n",
      " batch_normalization_1 (Batc  (None, 9, 9, 32)         128       \n",
      " hNormalization)                                                 \n",
      "                                                                 \n",
      " channel_attention (ChannelA  (None, 9, 9, 32)         0         \n",
      " ttention)                                                       \n",
      "                                                                 \n",
      " spatial_attention (SpatialA  (None, 9, 9, 32)         0         \n",
      " ttention)                                                       \n",
      "                                                                 \n",
      " max_pooling2d (MaxPooling2D  (None, 4, 4, 32)         0         \n",
      " )                                                               \n",
      "                                                                 \n",
      " conv2d_2 (Conv2D)           (None, 4, 4, 64)          18496     \n",
      "                                                                 \n",
      " batch_normalization_2 (Batc  (None, 4, 4, 64)         256       \n",
      " hNormalization)                                                 \n",
      "                                                                 \n",
      " conv2d_3 (Conv2D)           (None, 4, 4, 64)          36928     \n",
      "                                                                 \n",
      " batch_normalization_3 (Batc  (None, 4, 4, 64)         256       \n",
      " hNormalization)                                                 \n",
      "                                                                 \n",
      " channel_attention_1 (Channe  (None, 4, 4, 64)         0         \n",
      " lAttention)                                                     \n",
      "                                                                 \n",
      " spatial_attention_1 (Spatia  (None, 4, 4, 64)         0         \n",
      " lAttention)                                                     \n",
      "                                                                 \n",
      " max_pooling2d_1 (MaxPooling  (None, 2, 2, 64)         0         \n",
      " 2D)                                                             \n",
      "                                                                 \n",
      " conv2d_4 (Conv2D)           (None, 2, 2, 128)         73856     \n",
      "                                                                 \n",
      " batch_normalization_4 (Batc  (None, 2, 2, 128)        512       \n",
      " hNormalization)                                                 \n",
      "                                                                 \n",
      " conv2d_5 (Conv2D)           (None, 2, 2, 128)         147584    \n",
      "                                                                 \n",
      " channel_attention_2 (Channe  (None, 2, 2, 128)        0         \n",
      " lAttention)                                                     \n",
      "                                                                 \n",
      " spatial_attention_2 (Spatia  (None, 2, 2, 128)        0         \n",
      " lAttention)                                                     \n",
      "                                                                 \n",
      " global_average_pooling2d (G  (None, 128)              0         \n",
      " lobalAveragePooling2D)                                          \n",
      "                                                                 \n",
      " dense (Dense)               (None, 3)                 387       \n",
      "                                                                 \n",
      "=================================================================\n",
      "Total params: 20,459,651\n",
      "Trainable params: 434,627\n",
      "Non-trainable params: 20,025,024\n",
      "_________________________________________________________________\n"
     ]
    }
   ],
   "source": [
    "model.summary()"
   ]
  },
  {
   "cell_type": "code",
   "execution_count": 19,
   "id": "11cca389",
   "metadata": {},
   "outputs": [],
   "source": [
    "steps_per_epoch = (x_train.shape[0]//batch_size)\n",
    "validation_steps = (x_val.shape[0] // batch_size)\n",
    "\n",
    "es = EarlyStopping(monitor='val_loss', mode='min', verbose=1, patience=200)"
   ]
  },
  {
   "cell_type": "code",
   "execution_count": 20,
   "id": "0f72e0fb",
   "metadata": {},
   "outputs": [
    {
     "data": {
      "text/plain": [
       "((1879, 299, 299, 3), (1879, 3))"
      ]
     },
     "execution_count": 20,
     "metadata": {},
     "output_type": "execute_result"
    }
   ],
   "source": [
    "x_train.shape,y_train.shape"
   ]
  },
  {
   "cell_type": "code",
   "execution_count": 21,
   "id": "49254f8f",
   "metadata": {
    "scrolled": true
   },
   "outputs": [
    {
     "name": "stdout",
     "output_type": "stream",
     "text": [
      "Epoch 1/20\n",
      "58/58 [==============================] - 866s 15s/step - loss: 0.7539 - acc: 0.4968 - val_loss: 0.8691 - val_acc: 0.4062\n",
      "Epoch 2/20\n",
      "58/58 [==============================] - 852s 15s/step - loss: 0.7286 - acc: 0.5089 - val_loss: 0.8946 - val_acc: 0.4062\n",
      "Epoch 3/20\n",
      "58/58 [==============================] - 899s 15s/step - loss: 0.7166 - acc: 0.4992 - val_loss: 1.0702 - val_acc: 0.4062\n",
      "Epoch 4/20\n",
      "58/58 [==============================] - 877s 15s/step - loss: 0.5613 - acc: 0.6952 - val_loss: 26.7165 - val_acc: 0.4062\n",
      "Epoch 5/20\n",
      "58/58 [==============================] - 879s 15s/step - loss: 0.4038 - acc: 0.8300 - val_loss: 47.8995 - val_acc: 0.4062\n",
      "Epoch 6/20\n",
      "58/58 [==============================] - 868s 15s/step - loss: 0.3198 - acc: 0.8706 - val_loss: 72.9850 - val_acc: 0.4062\n",
      "Epoch 7/20\n",
      "58/58 [==============================] - 871s 15s/step - loss: 0.3123 - acc: 0.8679 - val_loss: 92.1945 - val_acc: 0.4062\n",
      "Epoch 8/20\n",
      "58/58 [==============================] - 869s 15s/step - loss: 0.2977 - acc: 0.8841 - val_loss: 128.8911 - val_acc: 0.4062\n",
      "Epoch 9/20\n",
      "58/58 [==============================] - 868s 15s/step - loss: 0.2980 - acc: 0.8701 - val_loss: 120.4167 - val_acc: 0.4062\n",
      "Epoch 10/20\n",
      "58/58 [==============================] - 872s 15s/step - loss: 0.2951 - acc: 0.8793 - val_loss: 135.4419 - val_acc: 0.4062\n",
      "Epoch 11/20\n",
      "58/58 [==============================] - 872s 15s/step - loss: 0.2745 - acc: 0.8825 - val_loss: 175.1400 - val_acc: 0.4062\n",
      "Epoch 12/20\n",
      "58/58 [==============================] - 867s 15s/step - loss: 0.2432 - acc: 0.9053 - val_loss: 215.7554 - val_acc: 0.4062\n",
      "Epoch 13/20\n",
      "58/58 [==============================] - 863s 15s/step - loss: 0.2518 - acc: 0.8993 - val_loss: 199.1641 - val_acc: 0.4062\n",
      "Epoch 14/20\n",
      "58/58 [==============================] - 864s 15s/step - loss: 0.2472 - acc: 0.8982 - val_loss: 300.7196 - val_acc: 0.4062\n",
      "Epoch 15/20\n",
      "58/58 [==============================] - 863s 15s/step - loss: 0.2313 - acc: 0.9090 - val_loss: 318.6276 - val_acc: 0.4062\n",
      "Epoch 16/20\n",
      "58/58 [==============================] - 868s 15s/step - loss: 0.2300 - acc: 0.9117 - val_loss: 328.8904 - val_acc: 0.4062\n",
      "Epoch 17/20\n",
      "58/58 [==============================] - 737s 13s/step - loss: 0.2033 - acc: 0.9215 - val_loss: 429.3094 - val_acc: 0.4062\n",
      "Epoch 18/20\n",
      "58/58 [==============================] - 445s 8s/step - loss: 0.2135 - acc: 0.9123 - val_loss: 505.8328 - val_acc: 0.4062\n",
      "Epoch 19/20\n",
      "58/58 [==============================] - 443s 8s/step - loss: 0.2102 - acc: 0.9220 - val_loss: 837.4645 - val_acc: 0.4062\n",
      "Epoch 20/20\n",
      "58/58 [==============================] - 422s 7s/step - loss: 0.2161 - acc: 0.9161 - val_loss: 794.2955 - val_acc: 0.4062\n"
     ]
    }
   ],
   "source": [
    "start_time = time.time()\n",
    "\n",
    "history = model.fit(x_train, y_train,\n",
    "    steps_per_epoch=steps_per_epoch,\n",
    "    epochs = 20,\n",
    "    validation_data=(x_val, y_val),\n",
    "    validation_steps=validation_steps,\n",
    "    batch_size = batch_size,\n",
    "    callbacks=[es],\n",
    "    verbose=1)\n",
    "\n",
    "logging.basicConfig(filename=\"CNN-basedTL_InceptionV3log.txt\", level=logging.INFO)\n",
    "logging.info(\"Training Execution Time:\" + time.strftime(\"%H:%M:%S\", time.gmtime(time.time() - start_time)))"
   ]
  },
  {
   "cell_type": "markdown",
   "id": "364079c7",
   "metadata": {},
   "source": [
    "# Evaluation model"
   ]
  },
  {
   "cell_type": "code",
   "execution_count": 22,
   "id": "e18f9753",
   "metadata": {},
   "outputs": [
    {
     "name": "stdout",
     "output_type": "stream",
     "text": [
      "16/16 [==============================] - 109s 7s/step - loss: 45.2969 - acc: 0.5093\n",
      "test_loss: 4529.69\n",
      "test_accuracy: 50.93\n"
     ]
    }
   ],
   "source": [
    "start_time = time.time()\n",
    "\n",
    "loss, accuracy = model.evaluate(x_test,y_test,batch_size=batch_size)\n",
    "print('test_loss: %.2f' % (loss * 100.0))  \n",
    "print('test_accuracy: %.2f' % (accuracy * 100.0))\n",
    "\n",
    "logging.info(\"Evaluation Execution Time: \" + time.strftime(\"%H:%M:%S\", time.gmtime(time.time() - start_time)))\n",
    "logging.info(\"test_loss:\" + str(loss))\n",
    "logging.info(\"test accuracy:\" + str(accuracy))"
   ]
  },
  {
   "cell_type": "code",
   "execution_count": 23,
   "id": "e47618e1",
   "metadata": {},
   "outputs": [
    {
     "name": "stdout",
     "output_type": "stream",
     "text": [
      "Accuracy: 50.93\n",
      "F1 score: 34.37\n",
      "Precision: 25.94\n",
      "Recall: 50.93\n"
     ]
    },
    {
     "name": "stderr",
     "output_type": "stream",
     "text": [
      "C:\\Users\\pined\\Anaconda3\\lib\\site-packages\\sklearn\\metrics\\_classification.py:1318: UndefinedMetricWarning: Precision is ill-defined and being set to 0.0 in labels with no predicted samples. Use `zero_division` parameter to control this behavior.\n",
      "  _warn_prf(average, modifier, msg_start, len(result))\n"
     ]
    }
   ],
   "source": [
    "model_probs = model.predict(x_test,batch_size=batch_size,verbose=0)\n",
    "y_pred = model_probs\n",
    "# predict crisp classes for test set\n",
    "model_classes = np.argmax(model_probs,axis=1)\n",
    "# reduce to 1d array\n",
    "model_probs = model_probs[:, 0]\n",
    "\n",
    "y_test_reduced = np.argmax(y_test,axis=1)\n",
    " \n",
    "# accuracy: (tp + tn) / (p + n)\n",
    "accuracy = accuracy_score(y_test_reduced, model_classes)*100\n",
    "# precision tp / (tp + fp)\n",
    "precision = precision_score(y_test_reduced, model_classes, average='weighted')*100\n",
    "# recall: tp / (tp + fn)\n",
    "recall = recall_score(y_test_reduced, model_classes, average='weighted')*100\n",
    "# f1: 2 tp / (2 tp + fp + fn)\n",
    "f1 = f1_score(y_test_reduced, model_classes, average='weighted')*100\n",
    "\n",
    "print('Accuracy: %.2f' % accuracy)\n",
    "print('F1 score: %.2f' % f1)\n",
    "print('Precision: %.2f' % precision)\n",
    "print('Recall: %.2f' % recall)\n",
    "\n",
    "logging.info('Accuracy: %.2f' % accuracy)\n",
    "logging.info('F1 score: %.2f' % f1)\n",
    "logging.info('Precision: %.2f' % precision)\n",
    "logging.info('Recall: %.2f' % recall)"
   ]
  },
  {
   "cell_type": "code",
   "execution_count": 24,
   "id": "49161650",
   "metadata": {},
   "outputs": [
    {
     "data": {
      "image/png": "[encoded data removed]",
      "text/plain": [
       "<Figure size 432x288 with 1 Axes>"
      ]
     },
     "metadata": {
      "needs_background": "light"
     },
     "output_type": "display_data"
    }
   ],
   "source": [
    "accuracy = history.history['acc']\n",
    "validation_accuracy = history.history['val_acc']\n",
    "epochs = range(len(accuracy))\n",
    "plt.plot(epochs, accuracy, 'r', label='Training accuracy')\n",
    "plt.plot(epochs, validation_accuracy, 'b', label='Validation accuracy')\n",
    "plt.title('Training and validation accuracy')\n",
    "plt.legend(loc=0)\n",
    "plt.savefig(\"Training and validation accuracy - CNN-based TL.png\")\n",
    "plt.show() "
   ]
  },
  {
   "cell_type": "code",
   "execution_count": 25,
   "id": "fabaca91",
   "metadata": {},
   "outputs": [],
   "source": [
    "Y_pred_classes = np.argmax(y_pred,axis = 1) "
   ]
  },
  {
   "cell_type": "code",
   "execution_count": 26,
   "id": "c67425f0",
   "metadata": {},
   "outputs": [],
   "source": [
    "Y_test_classes = np.argmax(y_test,axis = 1) "
   ]
  },
  {
   "cell_type": "code",
   "execution_count": 27,
   "id": "7d5161e4",
   "metadata": {},
   "outputs": [
    {
     "name": "stdout",
     "output_type": "stream",
     "text": [
      "Confusion Matrix\n",
      "\n",
      "[[247   0]\n",
      " [238   0]]\n"
     ]
    }
   ],
   "source": [
    "from sklearn.metrics import confusion_matrix\n",
    "confusion = confusion_matrix(Y_test_classes,Y_pred_classes)\n",
    "print('Confusion Matrix\\n')\n",
    "print(confusion) "
   ]
  },
  {
   "cell_type": "code",
   "execution_count": 28,
   "id": "ea4875f3",
   "metadata": {},
   "outputs": [
    {
     "data": {
      "image/png": "[encoded data removed]",
      "text/plain": [
       "<Figure size 504x360 with 2 Axes>"
      ]
     },
     "metadata": {
      "needs_background": "light"
     },
     "output_type": "display_data"
    }
   ],
   "source": [
    "import seaborn as sns\n",
    "plt.figure(figsize=(7, 5))\n",
    "plt.xlabel(\"Preciccion\")\n",
    "plt.ylabel(\"Actual\")\n",
    "gf = sns.heatmap(confusion, annot=True,  annot_kws={'size': 15}, fmt = \"d\")\n",
    "gf.set_title('Confusion Matrix with labels')\n",
    "gf.set_xlabel('Predicted Values')\n",
    "gf.set_ylabel('Actual Values ')\n",
    "plt.show()"
   ]
  }
 ],
 "metadata": {
  "kernelspec": {
   "display_name": "Python 3 (ipykernel)",
   "language": "python",
   "name": "python3"
  },
  "language_info": {
   "codemirror_mode": {
    "name": "ipython",
    "version": 3
   },
   "file_extension": ".py",
   "mimetype": "text/x-python",
   "name": "python",
   "nbconvert_exporter": "python",
   "pygments_lexer": "ipython3",
   "version": "3.9.12"
  }
 },
 "nbformat": 4,
 "nbformat_minor": 5
}
