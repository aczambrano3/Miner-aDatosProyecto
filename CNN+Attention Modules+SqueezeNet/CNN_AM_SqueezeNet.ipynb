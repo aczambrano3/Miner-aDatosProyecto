{
 "cells": [
  {
   "cell_type": "markdown",
   "id": "fa884e9f",
   "metadata": {},
   "source": [
    "# Libraries"
   ]
  },
  {
   "cell_type": "code",
   "execution_count": 1,
   "id": "7ef55a12",
   "metadata": {},
   "outputs": [],
   "source": [
    "import os\n",
    "import cv2\n",
    "from PIL import Image\n",
    "import tensorflow as tf\n",
    "from tensorflow.keras import Input, Model\n",
    "from tensorflow.keras.layers import MaxPooling2D, concatenate, Convolution2D, Activation\n",
    "from tensorflow.keras.models import load_model\n",
    "from tensorflow.keras.utils import to_categorical, get_file\n",
    "from tensorflow.keras.optimizers import Adam, RMSprop\n",
    "from tensorflow.keras.callbacks import ReduceLROnPlateau\n",
    "from tensorflow.keras.preprocessing.image import ImageDataGenerator, img_to_array\n",
    "from tensorflow.keras.callbacks import EarlyStopping\n",
    "from tensorflow.keras import backend as K\n",
    "from keras_applications.imagenet_utils import _obtain_input_shape\n",
    "import numpy as np\n",
    "import matplotlib.pyplot as plt\n",
    "from sklearn.model_selection import train_test_split\n",
    "from sklearn.metrics import accuracy_score, precision_score, recall_score, f1_score\n",
    "import time\n",
    "import math\n",
    "import logging\n",
    "from tensorflow.keras import layers, models"
   ]
  },
  {
   "cell_type": "code",
   "execution_count": 2,
   "id": "0c9e1e3c",
   "metadata": {},
   "outputs": [],
   "source": [
    "class ChannelAttention(tf.keras.layers.Layer):\n",
    "      def __init__(self, filters, ratio):\n",
    "        super(ChannelAttention, self).__init__()\n",
    "        self.filters = filters\n",
    "        self.ratio = ratio\n",
    "\n",
    "        def build(self, input_shape):\n",
    "            self.shared_layer_one = tf.keras.layers.Dense(self.filters//self.ratio,\n",
    "                             activation='relu', kernel_initializer='he_normal', \n",
    "                              use_bias=True, \n",
    "                              bias_initializer='zeros')\n",
    "            self.shared_layer_two = tf.keras.layers.Dense(self.filters,\n",
    "                             kernel_initializer='he_normal',\n",
    "                             use_bias=True,\n",
    "                             bias_initializer='zeros')\n",
    "\n",
    "        def call(self, inputs):\n",
    "            # AvgPool\n",
    "            avg_pool = tf.keras.layers.GlobalAveragePooling2D()(inputs)\n",
    "            \n",
    "\n",
    "            avg_pool = self.shared_layer_one(avg_pool)\n",
    "            avg_pool = self.shared_layer_two(avg_pool)\n",
    "\n",
    "            # MaxPool\n",
    "            max_pool = tf.keras.layers.GlobalMaxPooling2D()(inputs)\n",
    "            max_pool = tf.keras.layers.Reshape((1,1,filters))(max_pool)\n",
    "\n",
    "            max_pool = shared_layer_one(max_pool)\n",
    "            max_pool = shared_layer_two(max_pool)\n",
    "\n",
    "\n",
    "            attention = tf.keras.layers.Add()([avg_pool,max_pool])\n",
    "            attention = tf.keras.layers.Activation('sigmoid')(attention)\n",
    "            \n",
    "            return tf.keras.layers.Multiply()([inputs, attention])"
   ]
  },
  {
   "cell_type": "code",
   "execution_count": 3,
   "id": "afc6f45c",
   "metadata": {},
   "outputs": [],
   "source": [
    "class SpatialAttention(tf.keras.layers.Layer):\n",
    "      def __init__(self, kernel_size):\n",
    "        super(SpatialAttention, self).__init__()\n",
    "        self.kernel_size = kernel_size\n",
    "        \n",
    "        def build(self, input_shape):\n",
    "            self.conv2d = tf.keras.layers.Conv2D(filters = 1,\n",
    "                    kernel_size=self.kernel_size,\n",
    "                    strides=1,\n",
    "                    padding='same',\n",
    "                    activation='sigmoid',\n",
    "                    kernel_initializer='he_normal',\n",
    "                    use_bias=False)\n",
    "\n",
    "        def call(self, inputs):\n",
    "            \n",
    "            # AvgPool\n",
    "            avg_pool = tf.keras.layers.Lambda(lambda x: tf.keras.backend.mean(x, axis=3, keepdims=True))(inputs)\n",
    "            \n",
    "            # MaxPool\n",
    "            max_pool = tf.keras.layers.Lambda(lambda x: tf.keras.backend.max(x, axis=3, keepdims=True))(inputs)\n",
    "\n",
    "            attention = tf.keras.layers.Concatenate(axis=3)([avg_pool, max_pool])\n",
    "\n",
    "            attention = self.conv2d(attention)\n",
    "\n",
    "\n",
    "            return tf.keras.layers.multiply([inputs, attention]) "
   ]
  },
  {
   "cell_type": "markdown",
   "id": "6f8f97ea",
   "metadata": {},
   "source": [
    "# Data loading and exploration"
   ]
  },
  {
   "cell_type": "code",
   "execution_count": 4,
   "id": "e93ec98c",
   "metadata": {},
   "outputs": [],
   "source": [
    "IMG_SHAPE  = 227\n",
    "batch_size = 32\n",
    "random_seed = 9"
   ]
  },
  {
   "cell_type": "code",
   "execution_count": 5,
   "id": "77fffd77",
   "metadata": {},
   "outputs": [
    {
     "name": "stdout",
     "output_type": "stream",
     "text": [
      "List of categories =  ['closed', 'open'] \n",
      "\n",
      "No. of categories =  2\n"
     ]
    }
   ],
   "source": [
    "fpath = 'C:/Users/zambr/OneDrive/Escritorio/7mo Semestre/Dataset Mineria/Dataset'\n",
    "categories = os.listdir(fpath)\n",
    "print(\"List of categories = \",categories,\"\\n\\nNo. of categories = \", len(categories))"
   ]
  },
  {
   "cell_type": "code",
   "execution_count": 6,
   "id": "4ee87ce8",
   "metadata": {},
   "outputs": [
    {
     "name": "stdout",
     "output_type": "stream",
     "text": [
      "No. of images loaded =  2422 \n",
      "No. of labels loaded =  2422\n",
      "<class 'list'> <class 'list'>\n"
     ]
    }
   ],
   "source": [
    "def load_images_and_labels(categories):\n",
    "    img_lst=[]\n",
    "    labels=[]\n",
    "    for index, category in enumerate(categories):\n",
    "        for image_name in os.listdir(fpath+\"/\"+category):\n",
    "            img = cv2.imread(fpath+\"/\"+category+\"/\"+image_name)\n",
    "            img = cv2.cvtColor(img, cv2.COLOR_BGR2RGB)\n",
    "            img = cv2.resize(img, (IMG_SHAPE, IMG_SHAPE))\n",
    "            img_array = Image.fromarray(img, 'RGB')\n",
    "\n",
    "            img_lst.append(np.array(img_array))\n",
    "\n",
    "            labels.append(index)\n",
    "    return img_lst, labels\n",
    "\n",
    "images, labels = load_images_and_labels(categories)\n",
    "print(\"No. of images loaded = \",len(images),\"\\nNo. of labels loaded = \",len(labels))\n",
    "print(type(images),type(labels))"
   ]
  },
  {
   "cell_type": "code",
   "execution_count": 7,
   "id": "37edc62e",
   "metadata": {},
   "outputs": [
    {
     "name": "stdout",
     "output_type": "stream",
     "text": [
      "Images shape =  (2422, 227, 227, 3) \n",
      "Labels shape =  (2422,)\n",
      "<class 'numpy.ndarray'> <class 'numpy.ndarray'>\n"
     ]
    }
   ],
   "source": [
    "images = np.array(images)\n",
    "labels = np.array(labels)\n",
    "\n",
    "print(\"Images shape = \",images.shape,\"\\nLabels shape = \",labels.shape)\n",
    "print(type(images),type(labels))"
   ]
  },
  {
   "cell_type": "code",
   "execution_count": 8,
   "id": "f013ca3d",
   "metadata": {
    "scrolled": true
   },
   "outputs": [
    {
     "data": {
      "image/png": "[encoded data removed]",
      "text/plain": [
       "<Figure size 1368x720 with 9 Axes>"
      ]
     },
     "metadata": {},
     "output_type": "display_data"
    }
   ],
   "source": [
    "def display_rand_images(images, labels):\n",
    "    plt.figure(1 , figsize = (19 , 10))\n",
    "    n = 0 \n",
    "    for i in range(9):\n",
    "        n += 1 \n",
    "        r = np.random.randint(0 , images.shape[0] , 1)\n",
    "        \n",
    "        plt.subplot(3 , 3 , n)\n",
    "        plt.subplots_adjust(hspace = 0.3 , wspace = 0.3)\n",
    "        plt.imshow(images[r[0]])\n",
    "        \n",
    "        plt.title('Eyes : {}'.format(labels[r[0]]))\n",
    "        plt.xticks([])\n",
    "        plt.yticks([])\n",
    "        \n",
    "    plt.show()\n",
    "    \n",
    "display_rand_images(images, labels)"
   ]
  },
  {
   "cell_type": "markdown",
   "id": "6a25e8d9",
   "metadata": {},
   "source": [
    "# Prepare data for training the CNN model"
   ]
  },
  {
   "cell_type": "code",
   "execution_count": 9,
   "id": "21aeb03d",
   "metadata": {},
   "outputs": [
    {
     "name": "stdout",
     "output_type": "stream",
     "text": [
      "'n' values before shuffling =  [   0    1    2 ... 2419 2420 2421]\n",
      "\n",
      "'n' values after shuffling =  [ 737 2294  456 ...  501  348  382]\n"
     ]
    }
   ],
   "source": [
    "#1-step in data shuffling\n",
    "\n",
    "#get equally spaced numbers in a given range\n",
    "n = np.arange(images.shape[0])\n",
    "print(\"'n' values before shuffling = \",n)\n",
    "\n",
    "#shuffle all the equally spaced values in list 'n'\n",
    "np.random.seed(random_seed)\n",
    "np.random.shuffle(n)\n",
    "print(\"\\n'n' values after shuffling = \",n)"
   ]
  },
  {
   "cell_type": "code",
   "execution_count": 10,
   "id": "95eaefed",
   "metadata": {},
   "outputs": [
    {
     "name": "stdout",
     "output_type": "stream",
     "text": [
      "Images shape after shuffling =  (2422, 227, 227, 3) \n",
      "Labels shape after shuffling =  (2422,)\n"
     ]
    }
   ],
   "source": [
    "#2-step in data shuffling\n",
    "\n",
    "#shuffle images and corresponding labels data in both the lists\n",
    "images = images[n]\n",
    "labels = labels[n]\n",
    "\n",
    "print(\"Images shape after shuffling = \",images.shape,\"\\nLabels shape after shuffling = \",labels.shape)"
   ]
  },
  {
   "cell_type": "code",
   "execution_count": 11,
   "id": "ca3671b7",
   "metadata": {},
   "outputs": [
    {
     "name": "stdout",
     "output_type": "stream",
     "text": [
      "Images shape after normalization =  (2422, 227, 227, 3)\n"
     ]
    }
   ],
   "source": [
    "images = images.astype(np.float32)\n",
    "labels = labels.astype(np.int32)\n",
    "images = images/255\n",
    "print(\"Images shape after normalization = \",images.shape)"
   ]
  },
  {
   "cell_type": "code",
   "execution_count": 12,
   "id": "b45e51e8",
   "metadata": {},
   "outputs": [
    {
     "name": "stdout",
     "output_type": "stream",
     "text": [
      "x_train shape =  (1879, 227, 227, 3)\n",
      "y_train shape =  (1879,)\n",
      "\n",
      "x_test shape =  (485, 227, 227, 3)\n",
      "y_test shape =  (485,)\n",
      "\n",
      "x_val shape =  (58, 227, 227, 3)\n",
      "y_val shape =  (58,)\n"
     ]
    }
   ],
   "source": [
    "x_train, x_test, y_train, y_test = train_test_split(images, labels, test_size = 0.2, random_state = random_seed)\n",
    "\n",
    "x_val = x_train[:58]\n",
    "y_val = y_train[:58]\n",
    "x_train = x_train[58:]\n",
    "y_train = y_train[58:]\n",
    "\n",
    "print(\"x_train shape = \",x_train.shape)\n",
    "print(\"y_train shape = \",y_train.shape)\n",
    "print(\"\\nx_test shape = \",x_test.shape)\n",
    "print(\"y_test shape = \",y_test.shape)\n",
    "\n",
    "print(\"\\nx_val shape = \",x_val.shape)\n",
    "print(\"y_val shape = \",y_val.shape)"
   ]
  },
  {
   "cell_type": "code",
   "execution_count": 13,
   "id": "1931e52e",
   "metadata": {},
   "outputs": [],
   "source": [
    "##One-hot-encode\n",
    "y_train = to_categorical(y_train, 3)\n",
    "y_test = to_categorical(y_test, 3)\n",
    "y_val = to_categorical(y_val, 3)"
   ]
  },
  {
   "cell_type": "markdown",
   "id": "891f12cc",
   "metadata": {},
   "source": [
    "# Define CNN model"
   ]
  },
  {
   "cell_type": "code",
   "execution_count": 14,
   "id": "1aef6e83",
   "metadata": {},
   "outputs": [],
   "source": [
    "sq1x1 = \"squeeze1x1\"\n",
    "exp1x1 = \"expand1x1\"\n",
    "exp3x3 = \"expand3x3\"\n",
    "relu = \"relu_\"\n",
    "\n",
    "WEIGHTS_PATH = \"https://github.com/rcmalli/keras-squeezenet/releases/download/v1.0/squeezenet_weights_tf_dim_ordering_tf_kernels.h5\"\n",
    "WEIGHTS_PATH_NO_TOP = \"https://github.com/rcmalli/keras-squeezenet/releases/download/v1.0/squeezenet_weights_tf_dim_ordering_tf_kernels_notop.h5\"\n",
    "\n",
    "# Modular function for Fire Node\n",
    "\n",
    "def fire_module(x, fire_id, squeeze=16, expand=64):\n",
    "    s_id = 'fire' + str(fire_id) + '/'\n",
    "\n",
    "    if K.image_data_format() == 'channels_first':\n",
    "        channel_axis = 1\n",
    "    else:\n",
    "        channel_axis = 3\n",
    "    \n",
    "    x = Convolution2D(squeeze, (1, 1), padding='valid', name=s_id + sq1x1)(x)\n",
    "    x = Activation('relu', name=s_id + relu + sq1x1)(x)\n",
    "\n",
    "    left = Convolution2D(expand, (1, 1), padding='valid', name=s_id + exp1x1)(x)\n",
    "    left = Activation('relu', name=s_id + relu + exp1x1)(left)\n",
    "\n",
    "    right = Convolution2D(expand, (3, 3), padding='same', name=s_id + exp3x3)(x)\n",
    "    right = Activation('relu', name=s_id + relu + exp3x3)(right)\n",
    "\n",
    "    x = concatenate([left, right], axis=channel_axis, name=s_id + 'concat')\n",
    "    return x\n",
    "\n",
    "\n",
    "# Original SqueezeNet from paper.\n",
    "\n",
    "def SqueezeNet(include_top=True, weights='imagenet',\n",
    "               input_tensor=None, input_shape=None,\n",
    "               pooling=None,\n",
    "               classes=1000):\n",
    "    \"\"\"Instantiates the SqueezeNet architecture.\n",
    "    \"\"\"\n",
    "        \n",
    "    if weights not in {'imagenet', None}:\n",
    "        raise ValueError('The `weights` argument should be either '\n",
    "                         '`None` (random initialization) or `imagenet` '\n",
    "                         '(pre-training on ImageNet).')\n",
    "\n",
    "    if weights == 'imagenet' and classes != 1000:\n",
    "        raise ValueError('If using `weights` as imagenet with `include_top`'\n",
    "                         ' as true, `classes` should be 1000')\n",
    "\n",
    "\n",
    "    input_shape = _obtain_input_shape(input_shape,\n",
    "                                      default_size=227,\n",
    "                                      min_size=48,\n",
    "                                      data_format=K.image_data_format(),\n",
    "                                      require_flatten=include_top)\n",
    "\n",
    "    if input_tensor is None:\n",
    "        img_input = Input(shape=input_shape)\n",
    "    else:\n",
    "        if not K.is_keras_tensor(input_tensor):\n",
    "            img_input = Input(tensor=input_tensor, shape=input_shape)\n",
    "        else:\n",
    "            img_input = input_tensor\n",
    "\n",
    "\n",
    "    x = Convolution2D(64, (3, 3), strides=(2, 2), padding='valid', name='conv1')(img_input)\n",
    "    x = Activation('relu', name='relu_conv1')(x)\n",
    "    x = MaxPooling2D(pool_size=(3, 3), strides=(2, 2), name='pool1')(x)\n",
    "\n",
    "    x = fire_module(x, fire_id=2, squeeze=16, expand=64)\n",
    "    x = fire_module(x, fire_id=3, squeeze=16, expand=64)\n",
    "    x = MaxPooling2D(pool_size=(3, 3), strides=(2, 2), name='pool3')(x)\n",
    "\n",
    "    x = fire_module(x, fire_id=4, squeeze=32, expand=128)\n",
    "    x = fire_module(x, fire_id=5, squeeze=32, expand=128)\n",
    "    x = MaxPooling2D(pool_size=(3, 3), strides=(2, 2), name='pool5')(x)\n",
    "\n",
    "    x = fire_module(x, fire_id=6, squeeze=48, expand=192)\n",
    "    x = fire_module(x, fire_id=7, squeeze=48, expand=192)\n",
    "    x = fire_module(x, fire_id=8, squeeze=64, expand=256)\n",
    "    x = fire_module(x, fire_id=9, squeeze=64, expand=256)\n",
    "    \n",
    "    if include_top:\n",
    "        # It's not obvious where to cut the network... \n",
    "        # Could do the 8th or 9th layer... some work recommends cutting earlier layers.\n",
    "    \n",
    "        x = Dropout(0.5, name='drop9')(x)\n",
    "\n",
    "        x = Convolution2D(classes, (1, 1), padding='valid', name='conv10')(x)\n",
    "        x = Activation('relu', name='relu_conv10')(x)\n",
    "        x = GlobalAveragePooling2D()(x)\n",
    "        x = Activation('sigmoid', name='loss')(x)\n",
    "    else:\n",
    "        if pooling == 'avg':\n",
    "            x = GlobalAveragePooling2D()(x)\n",
    "        elif pooling=='max':\n",
    "            x = GlobalMaxPooling2D()(x)\n",
    "        elif pooling==None:\n",
    "            pass\n",
    "        else:\n",
    "            raise ValueError(\"Unknown argument for 'pooling'=\" + pooling)\n",
    "\n",
    "    # Ensure that the model takes into account\n",
    "    # any potential predecessors of `input_tensor`.\n",
    "    if input_tensor is not None:\n",
    "        inputs = get_source_inputs(input_tensor)\n",
    "    else:\n",
    "        inputs = img_input\n",
    "\n",
    "    model = Model(inputs, x, name='squeezenet')\n",
    "\n",
    "    # load weights\n",
    "    if weights == 'imagenet':\n",
    "        if include_top:\n",
    "            weights_path = get_file('squeezenet_weights_tf_dim_ordering_tf_kernels.h5',\n",
    "                                    WEIGHTS_PATH,\n",
    "                                    cache_subdir='models')\n",
    "        else:\n",
    "            weights_path = get_file('squeezenet_weights_tf_dim_ordering_tf_kernels_notop.h5',\n",
    "                                    WEIGHTS_PATH_NO_TOP,\n",
    "                                    cache_subdir='models')\n",
    "            \n",
    "        model.load_weights(weights_path)\n",
    "        if K.backend() == 'theano':\n",
    "            layer_utils.convert_all_kernels_in_model(model)\n",
    "\n",
    "        if K.image_data_format() == 'channels_first':\n",
    "\n",
    "            if K.backend() == 'tensorflow':\n",
    "                warnings.warn('You are using the TensorFlow backend, yet you '\n",
    "                              'are using the Theano '\n",
    "                              'image data format convention '\n",
    "                              '(`image_data_format=\"channels_first\"`). '\n",
    "                              'For best performance, set '\n",
    "                              '`image_data_format=\"channels_last\"` in '\n",
    "                              'your Keras config '\n",
    "                              'at ~/.keras/keras.json.')\n",
    "    return model"
   ]
  },
  {
   "cell_type": "code",
   "execution_count": 15,
   "id": "f521c0c9",
   "metadata": {
    "scrolled": true
   },
   "outputs": [
    {
     "name": "stdout",
     "output_type": "stream",
     "text": [
      "Downloading data from https://github.com/rcmalli/keras-squeezenet/releases/download/v1.0/squeezenet_weights_tf_dim_ordering_tf_kernels_notop.h5\n",
      "3039232/3032184 [==============================] - 4s 1us/step\n",
      "3047424/3032184 [==============================] - 4s 1us/step\n"
     ]
    }
   ],
   "source": [
    "base_model = SqueezeNet(input_shape=x_train[0].shape, include_top=False, weights=\"imagenet\")"
   ]
  },
  {
   "cell_type": "code",
   "execution_count": 16,
   "id": "43711f83",
   "metadata": {},
   "outputs": [
    {
     "name": "stdout",
     "output_type": "stream",
     "text": [
      "input_1\n",
      "conv1\n",
      "relu_conv1\n",
      "pool1\n",
      "fire2/squeeze1x1\n",
      "fire2/relu_squeeze1x1\n",
      "fire2/expand1x1\n",
      "fire2/expand3x3\n",
      "fire2/relu_expand1x1\n",
      "fire2/relu_expand3x3\n",
      "fire2/concat\n",
      "fire3/squeeze1x1\n",
      "fire3/relu_squeeze1x1\n",
      "fire3/expand1x1\n",
      "fire3/expand3x3\n",
      "fire3/relu_expand1x1\n",
      "fire3/relu_expand3x3\n",
      "fire3/concat\n",
      "pool3\n",
      "fire4/squeeze1x1\n",
      "fire4/relu_squeeze1x1\n",
      "fire4/expand1x1\n",
      "fire4/expand3x3\n",
      "fire4/relu_expand1x1\n",
      "fire4/relu_expand3x3\n",
      "fire4/concat\n",
      "fire5/squeeze1x1\n",
      "fire5/relu_squeeze1x1\n",
      "fire5/expand1x1\n",
      "fire5/expand3x3\n",
      "fire5/relu_expand1x1\n",
      "fire5/relu_expand3x3\n",
      "fire5/concat\n",
      "pool5\n",
      "fire6/squeeze1x1\n",
      "fire6/relu_squeeze1x1\n",
      "fire6/expand1x1\n",
      "fire6/expand3x3\n",
      "fire6/relu_expand1x1\n",
      "fire6/relu_expand3x3\n",
      "fire6/concat\n",
      "fire7/squeeze1x1\n",
      "fire7/relu_squeeze1x1\n",
      "fire7/expand1x1\n",
      "fire7/expand3x3\n",
      "fire7/relu_expand1x1\n",
      "fire7/relu_expand3x3\n",
      "fire7/concat\n",
      "fire8/squeeze1x1\n",
      "fire8/relu_squeeze1x1\n",
      "fire8/expand1x1\n",
      "fire8/expand3x3\n",
      "fire8/relu_expand1x1\n",
      "fire8/relu_expand3x3\n",
      "fire8/concat\n",
      "fire9/squeeze1x1\n",
      "fire9/relu_squeeze1x1\n",
      "fire9/expand1x1\n",
      "fire9/expand3x3\n",
      "fire9/relu_expand1x1\n",
      "fire9/relu_expand3x3\n",
      "fire9/concat\n"
     ]
    }
   ],
   "source": [
    "for layer in base_model.layers:\n",
    "    print(layer.name)\n",
    "    layer.trainable = False"
   ]
  },
  {
   "cell_type": "code",
   "execution_count": 17,
   "id": "dbb13ff5",
   "metadata": {},
   "outputs": [],
   "source": [
    "model = tf.keras.models.Sequential([\n",
    "    base_model,\n",
    "    tf.keras.layers.Conv2D(32, 3, input_shape = x_train[0].shape, activation='elu', padding='same'),\n",
    "    tf.keras.layers.BatchNormalization(),\n",
    "    tf.keras.layers.Conv2D(32, 3, padding='same', activation='elu'),\n",
    "    tf.keras.layers.BatchNormalization(),\n",
    "    ChannelAttention(32, 8),\n",
    "    SpatialAttention(7),\n",
    "    tf.keras.layers.MaxPooling2D(pool_size=(2, 2)),\n",
    "    tf.keras.layers.Conv2D(64, 3, padding='same', activation='elu'),\n",
    "    tf.keras.layers.BatchNormalization(),\n",
    "    tf.keras.layers.Conv2D(64, 3, padding='same', activation='elu'),\n",
    "    tf.keras.layers.BatchNormalization(),\n",
    "    ChannelAttention(64, 8),\n",
    "    SpatialAttention(7),\n",
    "    tf.keras.layers.MaxPooling2D(pool_size=(2, 2)),\n",
    "    tf.keras.layers.Conv2D(128, 3, padding='same', activation='elu'),\n",
    "    tf.keras.layers.BatchNormalization(),\n",
    "    tf.keras.layers.Conv2D(128, 3, padding='same', activation='elu'),\n",
    "    ChannelAttention(128, 8),\n",
    "    SpatialAttention(7),\n",
    "    tf.keras.layers.GlobalAveragePooling2D(),\n",
    "    tf.keras.layers.Dense(3, activation='sigmoid' )\n",
    "])"
   ]
  },
  {
   "cell_type": "markdown",
   "id": "6b94f5bb",
   "metadata": {},
   "source": [
    "# Train model"
   ]
  },
  {
   "cell_type": "code",
   "execution_count": 18,
   "id": "8bc5ab13",
   "metadata": {},
   "outputs": [],
   "source": [
    "model.compile(optimizer='adam', loss=tf.keras.losses.categorical_crossentropy, metrics=['acc'])"
   ]
  },
  {
   "cell_type": "code",
   "execution_count": 19,
   "id": "c3e20f07",
   "metadata": {},
   "outputs": [
    {
     "name": "stdout",
     "output_type": "stream",
     "text": [
      "Model: \"sequential\"\n",
      "_________________________________________________________________\n",
      "Layer (type)                 Output Shape              Param #   \n",
      "=================================================================\n",
      "squeezenet (Functional)      (None, 13, 13, 512)       722496    \n",
      "_________________________________________________________________\n",
      "conv2d (Conv2D)              (None, 13, 13, 32)        147488    \n",
      "_________________________________________________________________\n",
      "batch_normalization (BatchNo (None, 13, 13, 32)        128       \n",
      "_________________________________________________________________\n",
      "conv2d_1 (Conv2D)            (None, 13, 13, 32)        9248      \n",
      "_________________________________________________________________\n",
      "batch_normalization_1 (Batch (None, 13, 13, 32)        128       \n",
      "_________________________________________________________________\n",
      "channel_attention (ChannelAt (None, 13, 13, 32)        0         \n",
      "_________________________________________________________________\n",
      "spatial_attention (SpatialAt (None, 13, 13, 32)        0         \n",
      "_________________________________________________________________\n",
      "max_pooling2d (MaxPooling2D) (None, 6, 6, 32)          0         \n",
      "_________________________________________________________________\n",
      "conv2d_2 (Conv2D)            (None, 6, 6, 64)          18496     \n",
      "_________________________________________________________________\n",
      "batch_normalization_2 (Batch (None, 6, 6, 64)          256       \n",
      "_________________________________________________________________\n",
      "conv2d_3 (Conv2D)            (None, 6, 6, 64)          36928     \n",
      "_________________________________________________________________\n",
      "batch_normalization_3 (Batch (None, 6, 6, 64)          256       \n",
      "_________________________________________________________________\n",
      "channel_attention_1 (Channel (None, 6, 6, 64)          0         \n",
      "_________________________________________________________________\n",
      "spatial_attention_1 (Spatial (None, 6, 6, 64)          0         \n",
      "_________________________________________________________________\n",
      "max_pooling2d_1 (MaxPooling2 (None, 3, 3, 64)          0         \n",
      "_________________________________________________________________\n",
      "conv2d_4 (Conv2D)            (None, 3, 3, 128)         73856     \n",
      "_________________________________________________________________\n",
      "batch_normalization_4 (Batch (None, 3, 3, 128)         512       \n",
      "_________________________________________________________________\n",
      "conv2d_5 (Conv2D)            (None, 3, 3, 128)         147584    \n",
      "_________________________________________________________________\n",
      "channel_attention_2 (Channel (None, 3, 3, 128)         0         \n",
      "_________________________________________________________________\n",
      "spatial_attention_2 (Spatial (None, 3, 3, 128)         0         \n",
      "_________________________________________________________________\n",
      "global_average_pooling2d (Gl (None, 128)               0         \n",
      "_________________________________________________________________\n",
      "dense (Dense)                (None, 3)                 387       \n",
      "=================================================================\n",
      "Total params: 1,157,763\n",
      "Trainable params: 434,627\n",
      "Non-trainable params: 723,136\n",
      "_________________________________________________________________\n"
     ]
    }
   ],
   "source": [
    "model.summary()"
   ]
  },
  {
   "cell_type": "code",
   "execution_count": 20,
   "id": "a67ddd3a",
   "metadata": {},
   "outputs": [],
   "source": [
    "steps_per_epoch = (x_train.shape[0]//batch_size)\n",
    "validation_steps = (x_val.shape[0] // batch_size)\n",
    "\n",
    "es = EarlyStopping(monitor='val_loss', mode='min', verbose=1, patience=200)"
   ]
  },
  {
   "cell_type": "code",
   "execution_count": 21,
   "id": "5f98bf9e",
   "metadata": {},
   "outputs": [
    {
     "data": {
      "text/plain": [
       "((1879, 227, 227, 3), (1879, 3))"
      ]
     },
     "execution_count": 21,
     "metadata": {},
     "output_type": "execute_result"
    }
   ],
   "source": [
    "x_train.shape,y_train.shape"
   ]
  },
  {
   "cell_type": "code",
   "execution_count": 22,
   "id": "11543200",
   "metadata": {
    "scrolled": true
   },
   "outputs": [
    {
     "name": "stdout",
     "output_type": "stream",
     "text": [
      "Epoch 1/20\n",
      "58/58 [==============================] - 27s 348ms/step - loss: 0.4571 - acc: 0.7748 - val_loss: 2.4066 - val_acc: 0.4062\n",
      "Epoch 2/20\n",
      "58/58 [==============================] - 19s 335ms/step - loss: 0.2739 - acc: 0.8939 - val_loss: 1.0554 - val_acc: 0.5938\n",
      "Epoch 3/20\n",
      "58/58 [==============================] - 27s 474ms/step - loss: 0.2680 - acc: 0.8923 - val_loss: 5.3688 - val_acc: 0.4062\n",
      "Epoch 4/20\n",
      "58/58 [==============================] - 36s 561ms/step - loss: 0.1995 - acc: 0.9242 - val_loss: 0.4475 - val_acc: 0.7500\n",
      "Epoch 5/20\n",
      "58/58 [==============================] - 56s 965ms/step - loss: 0.2509 - acc: 0.8933 - val_loss: 6.5783 - val_acc: 0.5938\n",
      "Epoch 6/20\n",
      "58/58 [==============================] - 23s 390ms/step - loss: 0.1926 - acc: 0.9193 - val_loss: 8.2280 - val_acc: 0.4062\n",
      "Epoch 7/20\n",
      "58/58 [==============================] - 23s 386ms/step - loss: 0.2035 - acc: 0.9210 - val_loss: 10.6302 - val_acc: 0.4062\n",
      "Epoch 8/20\n",
      "58/58 [==============================] - 19s 329ms/step - loss: 0.2208 - acc: 0.9188 - val_loss: 0.1319 - val_acc: 0.9688\n",
      "Epoch 9/20\n",
      "58/58 [==============================] - 21s 359ms/step - loss: 0.1898 - acc: 0.9269 - val_loss: 0.1050 - val_acc: 1.0000\n",
      "Epoch 10/20\n",
      "58/58 [==============================] - 20s 349ms/step - loss: 0.1798 - acc: 0.9226 - val_loss: 2.6933 - val_acc: 0.4062\n",
      "Epoch 11/20\n",
      "58/58 [==============================] - 20s 346ms/step - loss: 0.1686 - acc: 0.9356 - val_loss: 12.1827 - val_acc: 0.5938\n",
      "Epoch 12/20\n",
      "58/58 [==============================] - 23s 399ms/step - loss: 0.1683 - acc: 0.9329 - val_loss: 7.3699 - val_acc: 0.4062\n",
      "Epoch 13/20\n",
      "58/58 [==============================] - 22s 374ms/step - loss: 0.1590 - acc: 0.9350 - val_loss: 17.8883 - val_acc: 0.5938\n",
      "Epoch 14/20\n",
      "58/58 [==============================] - 19s 327ms/step - loss: 0.1845 - acc: 0.9274 - val_loss: 1.8111 - val_acc: 0.4062\n",
      "Epoch 15/20\n",
      "58/58 [==============================] - 27s 465ms/step - loss: 0.1714 - acc: 0.9302 - val_loss: 2.1862 - val_acc: 0.4062\n",
      "Epoch 16/20\n",
      "58/58 [==============================] - 27s 463ms/step - loss: 0.1613 - acc: 0.9334 - val_loss: 3.7635 - val_acc: 0.5938\n",
      "Epoch 17/20\n",
      "58/58 [==============================] - 26s 440ms/step - loss: 0.1664 - acc: 0.9356 - val_loss: 0.3306 - val_acc: 0.8125\n",
      "Epoch 18/20\n",
      "58/58 [==============================] - 29s 470ms/step - loss: 0.1436 - acc: 0.9437 - val_loss: 15.9487 - val_acc: 0.5938\n",
      "Epoch 19/20\n",
      "58/58 [==============================] - 42s 728ms/step - loss: 0.1448 - acc: 0.9415 - val_loss: 1.5928 - val_acc: 0.4062\n",
      "Epoch 20/20\n",
      "58/58 [==============================] - 65s 1s/step - loss: 0.1292 - acc: 0.9491 - val_loss: 33.4515 - val_acc: 0.5938\n"
     ]
    }
   ],
   "source": [
    "start_time = time.time()\n",
    "\n",
    "history = model.fit(x_train, y_train,\n",
    "    steps_per_epoch=steps_per_epoch,\n",
    "    epochs = 20,\n",
    "    validation_data=(x_val, y_val),\n",
    "    validation_steps=validation_steps,\n",
    "    batch_size = batch_size,\n",
    "    callbacks=[es],\n",
    "    verbose=1)\n",
    "\n",
    "logging.basicConfig(filename=\"CNN-basedTL_SqueezeNet_log.txt\", level=logging.INFO)\n",
    "logging.info(\"Training Execution Time:\" + time.strftime(\"%H:%M:%S\", time.gmtime(time.time() - start_time)))"
   ]
  },
  {
   "cell_type": "markdown",
   "id": "449054d6",
   "metadata": {},
   "source": [
    "# Evaluation model"
   ]
  },
  {
   "cell_type": "code",
   "execution_count": 23,
   "id": "fe4c2ec1",
   "metadata": {},
   "outputs": [
    {
     "name": "stdout",
     "output_type": "stream",
     "text": [
      "16/16 [==============================] - 16s 994ms/step - loss: 45.5474 - acc: 0.4907\n",
      "test_loss: 4554.74\n",
      "test_accuracy: 49.07\n"
     ]
    }
   ],
   "source": [
    "start_time = time.time()\n",
    "\n",
    "loss, accuracy = model.evaluate(x_test,y_test,batch_size=batch_size)\n",
    "print('test_loss: %.2f' % (loss * 100.0))  \n",
    "print('test_accuracy: %.2f' % (accuracy * 100.0))\n",
    "\n",
    "logging.info(\"Evaluation Execution Time: \" + time.strftime(\"%H:%M:%S\", time.gmtime(time.time() - start_time)))\n",
    "logging.info(\"test_loss:\" + str(loss))\n",
    "logging.info(\"test accuracy:\" + str(accuracy))"
   ]
  },
  {
   "cell_type": "code",
   "execution_count": 24,
   "id": "75725467",
   "metadata": {},
   "outputs": [
    {
     "name": "stdout",
     "output_type": "stream",
     "text": [
      "Accuracy: 49.07\n",
      "F1 score: 32.31\n",
      "Precision: 24.08\n",
      "Recall: 49.07\n"
     ]
    },
    {
     "name": "stderr",
     "output_type": "stream",
     "text": [
      "C:\\Users\\zambr\\.conda\\envs\\tf\\lib\\site-packages\\sklearn\\metrics\\_classification.py:1327: UndefinedMetricWarning: Precision is ill-defined and being set to 0.0 in labels with no predicted samples. Use `zero_division` parameter to control this behavior.\n",
      "  _warn_prf(average, modifier, msg_start, len(result))\n"
     ]
    }
   ],
   "source": [
    "model_probs = model.predict(x_test,batch_size=batch_size,verbose=0)\n",
    "y_pred = model_probs\n",
    "# predict crisp classes for test set\n",
    "model_classes = np.argmax(model_probs,axis=1)\n",
    "# reduce to 1d array\n",
    "model_probs = model_probs[:, 0]\n",
    "\n",
    "y_test_reduced = np.argmax(y_test,axis=1)\n",
    " \n",
    "# accuracy: (tp + tn) / (p + n)\n",
    "accuracy = accuracy_score(y_test_reduced, model_classes)*100\n",
    "# precision tp / (tp + fp)\n",
    "precision = precision_score(y_test_reduced, model_classes, average='weighted')*100\n",
    "# recall: tp / (tp + fn)\n",
    "recall = recall_score(y_test_reduced, model_classes, average='weighted')*100\n",
    "# f1: 2 tp / (2 tp + fp + fn)\n",
    "f1 = f1_score(y_test_reduced, model_classes, average='weighted')*100\n",
    "\n",
    "print('Accuracy: %.2f' % accuracy)\n",
    "print('F1 score: %.2f' % f1)\n",
    "print('Precision: %.2f' % precision)\n",
    "print('Recall: %.2f' % recall)\n",
    "\n",
    "logging.info('Accuracy: %.2f' % accuracy)\n",
    "logging.info('F1 score: %.2f' % f1)\n",
    "logging.info('Precision: %.2f' % precision)\n",
    "logging.info('Recall: %.2f' % recall)"
   ]
  },
  {
   "cell_type": "code",
   "execution_count": 25,
   "id": "cb3d9f9b",
   "metadata": {},
   "outputs": [
    {
     "data": {
      "image/png": "[encoded data removed]",
      "text/plain": [
       "<Figure size 432x288 with 1 Axes>"
      ]
     },
     "metadata": {
      "needs_background": "light"
     },
     "output_type": "display_data"
    }
   ],
   "source": [
    "accuracy = history.history['acc']\n",
    "validation_accuracy = history.history['val_acc']\n",
    "epochs = range(len(accuracy))\n",
    "plt.plot(epochs, accuracy, 'r', label='Training accuracy')\n",
    "plt.plot(epochs, validation_accuracy, 'b', label='Validation accuracy')\n",
    "plt.title('Training and validation accuracy')\n",
    "plt.legend(loc=0)\n",
    "plt.savefig(\"Training and validation accuracy - SqueezeNet_AttentionModules.png\")\n",
    "plt.show() "
   ]
  },
  {
   "cell_type": "code",
   "execution_count": 26,
   "id": "b756aa6d",
   "metadata": {},
   "outputs": [],
   "source": [
    "y_pred = model.predict(x_test)"
   ]
  },
  {
   "cell_type": "code",
   "execution_count": 27,
   "id": "70aae9ab",
   "metadata": {},
   "outputs": [],
   "source": [
    "Y_pred_classes = np.argmax(y_pred,axis = 1) "
   ]
  },
  {
   "cell_type": "code",
   "execution_count": 28,
   "id": "85d37d4c",
   "metadata": {},
   "outputs": [],
   "source": [
    "Y_test_classes = np.argmax(y_test,axis = 1) "
   ]
  },
  {
   "cell_type": "code",
   "execution_count": 29,
   "id": "4088495a",
   "metadata": {},
   "outputs": [
    {
     "name": "stdout",
     "output_type": "stream",
     "text": [
      "Confusion Matrix\n",
      "\n",
      "[[  0 247]\n",
      " [  0 238]]\n"
     ]
    }
   ],
   "source": [
    "from sklearn.metrics import confusion_matrix\n",
    "confusion = confusion_matrix(Y_test_classes,Y_pred_classes)\n",
    "print('Confusion Matrix\\n')\n",
    "print(confusion) "
   ]
  },
  {
   "cell_type": "code",
   "execution_count": 30,
   "id": "77f3971a",
   "metadata": {},
   "outputs": [
    {
     "data": {
      "image/png": "[encoded data removed]",
      "text/plain": [
       "<Figure size 504x360 with 2 Axes>"
      ]
     },
     "metadata": {
      "needs_background": "light"
     },
     "output_type": "display_data"
    }
   ],
   "source": [
    "import seaborn as sns\n",
    "plt.figure(figsize=(7, 5))\n",
    "plt.xlabel(\"Preciccion\")\n",
    "plt.ylabel(\"Actual\")\n",
    "gf = sns.heatmap(confusion, annot=True,  annot_kws={'size': 15}, fmt = \"d\")\n",
    "gf.set_title('Confusion Matrix with labels')\n",
    "gf.set_xlabel('Predicted Values')\n",
    "gf.set_ylabel('Actual Values ')\n",
    "plt.show()"
   ]
  }
 ],
 "metadata": {
  "kernelspec": {
   "display_name": "Python 3 (ipykernel)",
   "language": "python",
   "name": "python3"
  },
  "language_info": {
   "codemirror_mode": {
    "name": "ipython",
    "version": 3
   },
   "file_extension": ".py",
   "mimetype": "text/x-python",
   "name": "python",
   "nbconvert_exporter": "python",
   "pygments_lexer": "ipython3",
   "version": "3.9.12"
  }
 },
 "nbformat": 4,
 "nbformat_minor": 5
}
